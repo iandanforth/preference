{
 "cells": [
  {
   "cell_type": "code",
   "execution_count": 237,
   "metadata": {},
   "outputs": [
    {
     "data": {
      "text/html": [
       "<script>requirejs.config({paths: { 'plotly': ['https://cdn.plot.ly/plotly-latest.min']},});if(!window.Plotly) {{require(['plotly'],function(plotly) {window.Plotly=plotly;});}}</script>"
      ],
      "text/vnd.plotly.v1+html": [
       "<script>requirejs.config({paths: { 'plotly': ['https://cdn.plot.ly/plotly-latest.min']},});if(!window.Plotly) {{require(['plotly'],function(plotly) {window.Plotly=plotly;});}}</script>"
      ]
     },
     "metadata": {},
     "output_type": "display_data"
    }
   ],
   "source": [
    "import numpy as np\n",
    "from collections import defaultdict, Counter\n",
    "from tabulate import tabulate\n",
    "import plotly.graph_objs as go\n",
    "import plotly.figure_factory as ff\n",
    "from plotly.offline import download_plotlyjs, init_notebook_mode, plot, iplot\n",
    "init_notebook_mode(connected=True)"
   ]
  },
  {
   "cell_type": "code",
   "execution_count": 238,
   "metadata": {},
   "outputs": [],
   "source": [
    "# A world of infinite cheese\n",
    "class World(object):\n",
    "    \n",
    "    def __init__(self):\n",
    "        self.cheese = False\n",
    "    \n",
    "    def step(self, eat):\n",
    "        if eat:\n",
    "            self.cheese = True\n",
    "        else:\n",
    "            self.cheese = False\n",
    "        \n",
    "        return self.cheese"
   ]
  },
  {
   "cell_type": "code",
   "execution_count": 239,
   "metadata": {},
   "outputs": [],
   "source": [
    "class Mouse(object):\n",
    "    def __init__(self, action_learning_rate=0.01):\n",
    "        self._action_learning_rate = action_learning_rate\n",
    "        \n",
    "        self.reset()\n",
    "    \n",
    "    def reset(self):\n",
    "        self.energy = self.initial_energy = 5\n",
    "        self.cheese = self.initial_cheese = None\n",
    "        self.action = self.initial_action = None\n",
    "        self.state = None\n",
    "        self.previous_state = None\n",
    "        \n",
    "        self._action_table = {}\n",
    "        for i in range(11):\n",
    "            for v in [True, False]:\n",
    "                k = (i, v)\n",
    "                self._action_table[k] = 0.5\n",
    "    \n",
    "    @staticmethod\n",
    "    def _update_energy(energy, cheese):\n",
    "        if cheese:\n",
    "            energy += 1\n",
    "        else:\n",
    "            energy -= 1\n",
    "        \n",
    "        return np.clip(energy, 0, 10)\n",
    "    \n",
    "    @staticmethod\n",
    "    def _innate_evaluation(current_state, full_point=7):\n",
    "        value = 0\n",
    "        energy, cheese = current_state\n",
    "        if cheese:\n",
    "            value = -energy + full_point\n",
    "        elif energy < 4:\n",
    "            value = energy - 4\n",
    "        return value\n",
    "\n",
    "    def _update_action_table(self, previous_state, value, learning_rate, debug=True):\n",
    "        if self.action:\n",
    "            previous_strength = self._action_table[previous_state]\n",
    "            new_strength = previous_strength + learning_rate * value\n",
    "            new_strength = np.clip(new_strength, 0.01, 0.99)\n",
    "            self._action_table[previous_state] = new_strength\n",
    "            if debug:\n",
    "                print(\"---- Update Action Table\")\n",
    "                print(\"Previous State:\", previous_state)\n",
    "                print(\"Previous Strength:\", previous_strength)\n",
    "                print(\"Value:\", value)\n",
    "                print(\"New Strength:\", new_strength)\n",
    "        else:\n",
    "            if debug:\n",
    "                print(\"Did not act last step. Nothing to change.\")\n",
    "        \n",
    "    def _learn(self, previous_state, value, debug=False):\n",
    "        self._update_action_table(\n",
    "            previous_state, \n",
    "            value, \n",
    "            self._action_learning_rate,\n",
    "            debug=debug\n",
    "        )\n",
    "    \n",
    "    def _get_action(self, state):\n",
    "        eat = False\n",
    "        act_chance = self._action_table[state]\n",
    "        if np.random.random() < act_chance:\n",
    "            eat = True\n",
    "        return eat\n",
    "    \n",
    "    def _dict_to_table(self, d):\n",
    "        int_d = defaultdict(list)\n",
    "        for k, v in d.items():\n",
    "            p1, p2 = k\n",
    "            int_d[p1].append(v)\n",
    "        \n",
    "        return [[k] + v for k, v in int_d.items()]\n",
    "    \n",
    "    def _display_table(self, d_table, headers):\n",
    "        t = self._dict_to_table(d_table)\n",
    "        print()\n",
    "        print(tabulate(t, headers=headers))\n",
    "        print()\n",
    "    \n",
    "    def display_knowledge(self):\n",
    "        print(\"---- Action Table\")\n",
    "        self._display_table(\n",
    "            self._action_table, \n",
    "            headers=[\"Energy\", \"Cheese\", \"No Cheese\"]\n",
    "        )\n",
    "    \n",
    "    def step(self, obseravation, debug=False):\n",
    "        cheese = observation # Boolean if the mouse tastes cheese or not\n",
    "        if debug: print(\"Initial energy value\", self.energy)\n",
    "        next_energy = self._update_energy(self.energy, cheese)\n",
    "        if debug: print(\"Updated energy value\", next_energy)\n",
    "        self.previous_state = self.state\n",
    "        self.state = (next_energy, cheese)\n",
    "        \n",
    "        if debug: \n",
    "            print(\"Previous State: (Energy, Cheese)\", self.previous_state)\n",
    "            print(\"Previous Action:\", self.action)\n",
    "            print(\"Current State: (Energy, Cheese)\", self.state)\n",
    "        if self.previous_state is not None:\n",
    "            if debug: print(\"Evaluating and learning ...\")\n",
    "            value = self._innate_evaluation(self.state)\n",
    "            if debug: print(\"Value:\", value)\n",
    "            self._learn(self.previous_state, value, debug)\n",
    "            if debug: self.display_knowledge()\n",
    "        \n",
    "        next_action = self._get_action(self.state)\n",
    "        if debug: \n",
    "            print(\"Action Chosen:\", next_action)\n",
    "            print(\"=\" * 50)\n",
    "        self.action = next_action\n",
    "        self.cheese = cheese\n",
    "        self.energy = next_energy\n",
    "        return self.action\n",
    "        \n",
    "        "
   ]
  },
  {
   "cell_type": "code",
   "execution_count": 240,
   "metadata": {},
   "outputs": [],
   "source": [
    "world = World()\n",
    "mouse = Mouse(action_learning_rate=0.1)"
   ]
  },
  {
   "cell_type": "code",
   "execution_count": 242,
   "metadata": {},
   "outputs": [],
   "source": [
    "mouse.reset()\n",
    "observation = False # No cheese to begin with\n",
    "chances_over_time = []\n",
    "capture_frame_every = 100\n",
    "actions = Counter()\n",
    "for i in range(10000):\n",
    "    if i % capture_frame_every == 0:\n",
    "        chances = np.array(mouse._dict_to_table(mouse._action_table)).T\n",
    "        chances_over_time.append(chances)\n",
    "    action = mouse.step(observation, debug=False)\n",
    "    if action:\n",
    "        actions[mouse.energy] += 1\n",
    "    observation = world.step(action)"
   ]
  },
  {
   "cell_type": "code",
   "execution_count": 251,
   "metadata": {},
   "outputs": [
    {
     "data": {
      "text/plain": [
       "[0,\n",
       " 0,\n",
       " 0.0003999200159968006,\n",
       " 0.0005998800239952009,\n",
       " 0.005398920215956809,\n",
       " 0.5108978204359128,\n",
       " 0.47290541891621674,\n",
       " 0.008598280343931213,\n",
       " 0.0009998000399920016,\n",
       " 0.0001999600079984003,\n",
       " 0]"
      ]
     },
     "execution_count": 251,
     "metadata": {},
     "output_type": "execute_result"
    }
   ],
   "source": [
    "action_frequency = []\n",
    "for i in range(11):\n",
    "    v = 0\n",
    "    if actions.get(i):\n",
    "        v = actions.get(i) / sum(actions.values())\n",
    "    \n",
    "    action_frequency.append(v)\n",
    "\n",
    "action_frequency"
   ]
  },
  {
   "cell_type": "code",
   "execution_count": 214,
   "metadata": {},
   "outputs": [
    {
     "name": "stdout",
     "output_type": "stream",
     "text": [
      "---- Action Table\n",
      "\n",
      "  Energy    Cheese    No Cheese\n",
      "--------  --------  -----------\n",
      "       0      0.5          0.5\n",
      "       1      0.5          0.5\n",
      "       2      0.5          0.5\n",
      "       3      0.5          0.99\n",
      "       4      0.99         0.99\n",
      "       5      0.99         0.99\n",
      "       6      0.5          0.5\n",
      "       7      0.01         0.01\n",
      "       8      0.01         0.1\n",
      "       9      0.2          0.2\n",
      "      10      0.5          0.5\n",
      "\n"
     ]
    }
   ],
   "source": [
    "mouse.display_knowledge()"
   ]
  },
  {
   "cell_type": "code",
   "execution_count": 215,
   "metadata": {},
   "outputs": [],
   "source": [
    "chances = np.array(mouse._dict_to_table(mouse._action_table)).T\n",
    "_, ysa_cheese, ysa_no_cheese = chances"
   ]
  },
  {
   "cell_type": "code",
   "execution_count": 216,
   "metadata": {},
   "outputs": [
    {
     "data": {
      "application/vnd.plotly.v1+json": {
       "data": [
        {
         "type": "scatter",
         "uid": "5385accc-a2aa-11e8-a3e4-d8cb8a18bb65",
         "y": [
          0.5,
          0.5,
          0.5,
          0.5,
          0.99,
          0.99,
          0.5,
          0.01,
          0.01,
          0.19999999999999996,
          0.5
         ]
        },
        {
         "type": "scatter",
         "uid": "5385accd-a2aa-11e8-a3a3-d8cb8a18bb65",
         "y": [
          0.5,
          0.5,
          0.5,
          0.99,
          0.99,
          0.99,
          0.5,
          0.01,
          0.09999999999999998,
          0.19999999999999996,
          0.5
         ]
        }
       ],
       "layout": {}
      },
      "text/html": [
       "<div id=\"63dc9aa6-5b03-4fb9-acbb-dea3e3233838\" style=\"height: 525px; width: 100%;\" class=\"plotly-graph-div\"></div><script type=\"text/javascript\">require([\"plotly\"], function(Plotly) { window.PLOTLYENV=window.PLOTLYENV || {};window.PLOTLYENV.BASE_URL=\"https://plot.ly\";Plotly.newPlot(\"63dc9aa6-5b03-4fb9-acbb-dea3e3233838\", [{\"y\": [0.5, 0.5, 0.5, 0.5, 0.99, 0.99, 0.5, 0.01, 0.01, 0.19999999999999996, 0.5], \"type\": \"scatter\", \"uid\": \"538955fe-a2aa-11e8-9252-d8cb8a18bb65\"}, {\"y\": [0.5, 0.5, 0.5, 0.99, 0.99, 0.99, 0.5, 0.01, 0.09999999999999998, 0.19999999999999996, 0.5], \"type\": \"scatter\", \"uid\": \"538955ff-a2aa-11e8-947c-d8cb8a18bb65\"}], {}, {\"showLink\": true, \"linkText\": \"Export to plot.ly\"})});</script>"
      ],
      "text/vnd.plotly.v1+html": [
       "<div id=\"63dc9aa6-5b03-4fb9-acbb-dea3e3233838\" style=\"height: 525px; width: 100%;\" class=\"plotly-graph-div\"></div><script type=\"text/javascript\">require([\"plotly\"], function(Plotly) { window.PLOTLYENV=window.PLOTLYENV || {};window.PLOTLYENV.BASE_URL=\"https://plot.ly\";Plotly.newPlot(\"63dc9aa6-5b03-4fb9-acbb-dea3e3233838\", [{\"y\": [0.5, 0.5, 0.5, 0.5, 0.99, 0.99, 0.5, 0.01, 0.01, 0.19999999999999996, 0.5], \"type\": \"scatter\", \"uid\": \"538955fe-a2aa-11e8-9252-d8cb8a18bb65\"}, {\"y\": [0.5, 0.5, 0.5, 0.99, 0.99, 0.99, 0.5, 0.01, 0.09999999999999998, 0.19999999999999996, 0.5], \"type\": \"scatter\", \"uid\": \"538955ff-a2aa-11e8-947c-d8cb8a18bb65\"}], {}, {\"showLink\": true, \"linkText\": \"Export to plot.ly\"})});</script>"
      ]
     },
     "metadata": {},
     "output_type": "display_data"
    }
   ],
   "source": [
    "iplot([go.Scatter(y=ysa_cheese), go.Scatter(y=ysa_no_cheese)])"
   ]
  },
  {
   "cell_type": "code",
   "execution_count": 217,
   "metadata": {},
   "outputs": [
    {
     "name": "stdout",
     "output_type": "stream",
     "text": [
      "100\n"
     ]
    },
    {
     "data": {
      "application/vnd.plotly.v1+json": {
       "data": [
        {
         "name": "Cheese",
         "type": "scatter",
         "uid": "55d4874a-a2aa-11e8-9931-d8cb8a18bb65",
         "y": [
          0.5,
          0.5,
          0.5,
          0.5,
          0.5,
          0.5,
          0.5,
          0.5,
          0.5,
          0.5,
          0.5
         ]
        },
        {
         "name": "No Cheese",
         "type": "scatter",
         "uid": "55d4874b-a2aa-11e8-95ef-d8cb8a18bb65",
         "y": [
          0.5,
          0.5,
          0.5,
          0.5,
          0.5,
          0.5,
          0.5,
          0.5,
          0.5,
          0.5,
          0.5
         ]
        }
       ],
       "frames": [
        {
         "data": [
          {
           "type": "scatter",
           "y": [
            0.5,
            0.5,
            0.5,
            0.5,
            0.5,
            0.5,
            0.5,
            0.5,
            0.5,
            0.5,
            0.5
           ]
          },
          {
           "type": "scatter",
           "y": [
            0.5,
            0.5,
            0.5,
            0.5,
            0.5,
            0.5,
            0.5,
            0.5,
            0.5,
            0.5,
            0.5
           ]
          }
         ],
         "layout": {
          "title": "Chance to Act by Energy Level - 0"
         }
        },
        {
         "data": [
          {
           "type": "scatter",
           "y": [
            0.5,
            0.5,
            0.5,
            0.5,
            0.5,
            0.8999999999999999,
            0.5,
            0.01,
            0.01,
            0.19999999999999996,
            0.5
           ]
          },
          {
           "type": "scatter",
           "y": [
            0.5,
            0.5,
            0.5,
            0.5,
            0.99,
            0.99,
            0.5,
            0.01,
            0.3,
            0.19999999999999996,
            0.5
           ]
          }
         ],
         "layout": {
          "title": "Chance to Act by Energy Level - 100"
         }
        },
        {
         "data": [
          {
           "type": "scatter",
           "y": [
            0.5,
            0.5,
            0.5,
            0.5,
            0.5,
            0.99,
            0.5,
            0.01,
            0.01,
            0.19999999999999996,
            0.5
           ]
          },
          {
           "type": "scatter",
           "y": [
            0.5,
            0.5,
            0.5,
            0.5,
            0.99,
            0.99,
            0.5,
            0.01,
            0.3,
            0.19999999999999996,
            0.5
           ]
          }
         ],
         "layout": {
          "title": "Chance to Act by Energy Level - 200"
         }
        },
        {
         "data": [
          {
           "type": "scatter",
           "y": [
            0.5,
            0.5,
            0.5,
            0.5,
            0.5,
            0.99,
            0.5,
            0.01,
            0.01,
            0.19999999999999996,
            0.5
           ]
          },
          {
           "type": "scatter",
           "y": [
            0.5,
            0.5,
            0.5,
            0.5,
            0.99,
            0.99,
            0.5,
            0.01,
            0.3,
            0.19999999999999996,
            0.5
           ]
          }
         ],
         "layout": {
          "title": "Chance to Act by Energy Level - 300"
         }
        },
        {
         "data": [
          {
           "type": "scatter",
           "y": [
            0.5,
            0.5,
            0.5,
            0.5,
            0.5,
            0.99,
            0.5,
            0.01,
            0.01,
            0.19999999999999996,
            0.5
           ]
          },
          {
           "type": "scatter",
           "y": [
            0.5,
            0.5,
            0.5,
            0.5,
            0.99,
            0.99,
            0.5,
            0.01,
            0.3,
            0.19999999999999996,
            0.5
           ]
          }
         ],
         "layout": {
          "title": "Chance to Act by Energy Level - 400"
         }
        },
        {
         "data": [
          {
           "type": "scatter",
           "y": [
            0.5,
            0.5,
            0.5,
            0.5,
            0.5,
            0.99,
            0.5,
            0.01,
            0.01,
            0.19999999999999996,
            0.5
           ]
          },
          {
           "type": "scatter",
           "y": [
            0.5,
            0.5,
            0.5,
            0.5,
            0.99,
            0.99,
            0.5,
            0.01,
            0.3,
            0.19999999999999996,
            0.5
           ]
          }
         ],
         "layout": {
          "title": "Chance to Act by Energy Level - 500"
         }
        },
        {
         "data": [
          {
           "type": "scatter",
           "y": [
            0.5,
            0.5,
            0.5,
            0.5,
            0.5,
            0.99,
            0.5,
            0.01,
            0.01,
            0.19999999999999996,
            0.5
           ]
          },
          {
           "type": "scatter",
           "y": [
            0.5,
            0.5,
            0.5,
            0.5,
            0.99,
            0.99,
            0.5,
            0.01,
            0.3,
            0.19999999999999996,
            0.5
           ]
          }
         ],
         "layout": {
          "title": "Chance to Act by Energy Level - 600"
         }
        },
        {
         "data": [
          {
           "type": "scatter",
           "y": [
            0.5,
            0.5,
            0.5,
            0.5,
            0.5,
            0.99,
            0.5,
            0.01,
            0.01,
            0.19999999999999996,
            0.5
           ]
          },
          {
           "type": "scatter",
           "y": [
            0.5,
            0.5,
            0.5,
            0.5,
            0.99,
            0.99,
            0.5,
            0.01,
            0.3,
            0.19999999999999996,
            0.5
           ]
          }
         ],
         "layout": {
          "title": "Chance to Act by Energy Level - 700"
         }
        },
        {
         "data": [
          {
           "type": "scatter",
           "y": [
            0.5,
            0.5,
            0.5,
            0.5,
            0.5,
            0.99,
            0.5,
            0.01,
            0.01,
            0.19999999999999996,
            0.5
           ]
          },
          {
           "type": "scatter",
           "y": [
            0.5,
            0.5,
            0.5,
            0.5,
            0.99,
            0.99,
            0.5,
            0.01,
            0.3,
            0.19999999999999996,
            0.5
           ]
          }
         ],
         "layout": {
          "title": "Chance to Act by Energy Level - 800"
         }
        },
        {
         "data": [
          {
           "type": "scatter",
           "y": [
            0.5,
            0.5,
            0.5,
            0.5,
            0.8999999999999999,
            0.99,
            0.5,
            0.01,
            0.01,
            0.19999999999999996,
            0.5
           ]
          },
          {
           "type": "scatter",
           "y": [
            0.5,
            0.5,
            0.5,
            0.99,
            0.99,
            0.99,
            0.5,
            0.01,
            0.3,
            0.19999999999999996,
            0.5
           ]
          }
         ],
         "layout": {
          "title": "Chance to Act by Energy Level - 900"
         }
        },
        {
         "data": [
          {
           "type": "scatter",
           "y": [
            0.5,
            0.5,
            0.5,
            0.5,
            0.8999999999999999,
            0.99,
            0.5,
            0.01,
            0.01,
            0.19999999999999996,
            0.5
           ]
          },
          {
           "type": "scatter",
           "y": [
            0.5,
            0.5,
            0.5,
            0.99,
            0.99,
            0.99,
            0.5,
            0.01,
            0.3,
            0.19999999999999996,
            0.5
           ]
          }
         ],
         "layout": {
          "title": "Chance to Act by Energy Level - 1000"
         }
        },
        {
         "data": [
          {
           "type": "scatter",
           "y": [
            0.5,
            0.5,
            0.5,
            0.5,
            0.8999999999999999,
            0.99,
            0.5,
            0.01,
            0.01,
            0.19999999999999996,
            0.5
           ]
          },
          {
           "type": "scatter",
           "y": [
            0.5,
            0.5,
            0.5,
            0.99,
            0.99,
            0.99,
            0.5,
            0.01,
            0.3,
            0.19999999999999996,
            0.5
           ]
          }
         ],
         "layout": {
          "title": "Chance to Act by Energy Level - 1100"
         }
        },
        {
         "data": [
          {
           "type": "scatter",
           "y": [
            0.5,
            0.5,
            0.5,
            0.5,
            0.8999999999999999,
            0.99,
            0.5,
            0.01,
            0.01,
            0.19999999999999996,
            0.5
           ]
          },
          {
           "type": "scatter",
           "y": [
            0.5,
            0.5,
            0.5,
            0.99,
            0.99,
            0.99,
            0.5,
            0.01,
            0.3,
            0.19999999999999996,
            0.5
           ]
          }
         ],
         "layout": {
          "title": "Chance to Act by Energy Level - 1200"
         }
        },
        {
         "data": [
          {
           "type": "scatter",
           "y": [
            0.5,
            0.5,
            0.5,
            0.5,
            0.8999999999999999,
            0.99,
            0.5,
            0.01,
            0.01,
            0.19999999999999996,
            0.5
           ]
          },
          {
           "type": "scatter",
           "y": [
            0.5,
            0.5,
            0.5,
            0.99,
            0.99,
            0.99,
            0.5,
            0.01,
            0.3,
            0.19999999999999996,
            0.5
           ]
          }
         ],
         "layout": {
          "title": "Chance to Act by Energy Level - 1300"
         }
        },
        {
         "data": [
          {
           "type": "scatter",
           "y": [
            0.5,
            0.5,
            0.5,
            0.5,
            0.8999999999999999,
            0.99,
            0.5,
            0.01,
            0.01,
            0.19999999999999996,
            0.5
           ]
          },
          {
           "type": "scatter",
           "y": [
            0.5,
            0.5,
            0.5,
            0.99,
            0.99,
            0.99,
            0.5,
            0.01,
            0.3,
            0.19999999999999996,
            0.5
           ]
          }
         ],
         "layout": {
          "title": "Chance to Act by Energy Level - 1400"
         }
        },
        {
         "data": [
          {
           "type": "scatter",
           "y": [
            0.5,
            0.5,
            0.5,
            0.5,
            0.99,
            0.99,
            0.5,
            0.01,
            0.01,
            0.19999999999999996,
            0.5
           ]
          },
          {
           "type": "scatter",
           "y": [
            0.5,
            0.5,
            0.5,
            0.99,
            0.99,
            0.99,
            0.5,
            0.01,
            0.3,
            0.19999999999999996,
            0.5
           ]
          }
         ],
         "layout": {
          "title": "Chance to Act by Energy Level - 1500"
         }
        },
        {
         "data": [
          {
           "type": "scatter",
           "y": [
            0.5,
            0.5,
            0.5,
            0.5,
            0.99,
            0.99,
            0.5,
            0.01,
            0.01,
            0.19999999999999996,
            0.5
           ]
          },
          {
           "type": "scatter",
           "y": [
            0.5,
            0.5,
            0.5,
            0.99,
            0.99,
            0.99,
            0.5,
            0.01,
            0.3,
            0.19999999999999996,
            0.5
           ]
          }
         ],
         "layout": {
          "title": "Chance to Act by Energy Level - 1600"
         }
        },
        {
         "data": [
          {
           "type": "scatter",
           "y": [
            0.5,
            0.5,
            0.5,
            0.5,
            0.99,
            0.99,
            0.5,
            0.01,
            0.01,
            0.19999999999999996,
            0.5
           ]
          },
          {
           "type": "scatter",
           "y": [
            0.5,
            0.5,
            0.5,
            0.99,
            0.99,
            0.99,
            0.5,
            0.01,
            0.3,
            0.19999999999999996,
            0.5
           ]
          }
         ],
         "layout": {
          "title": "Chance to Act by Energy Level - 1700"
         }
        },
        {
         "data": [
          {
           "type": "scatter",
           "y": [
            0.5,
            0.5,
            0.5,
            0.5,
            0.99,
            0.99,
            0.5,
            0.01,
            0.01,
            0.19999999999999996,
            0.5
           ]
          },
          {
           "type": "scatter",
           "y": [
            0.5,
            0.5,
            0.5,
            0.99,
            0.99,
            0.99,
            0.5,
            0.01,
            0.3,
            0.19999999999999996,
            0.5
           ]
          }
         ],
         "layout": {
          "title": "Chance to Act by Energy Level - 1800"
         }
        },
        {
         "data": [
          {
           "type": "scatter",
           "y": [
            0.5,
            0.5,
            0.5,
            0.5,
            0.99,
            0.99,
            0.5,
            0.01,
            0.01,
            0.19999999999999996,
            0.5
           ]
          },
          {
           "type": "scatter",
           "y": [
            0.5,
            0.5,
            0.5,
            0.99,
            0.99,
            0.99,
            0.5,
            0.01,
            0.3,
            0.19999999999999996,
            0.5
           ]
          }
         ],
         "layout": {
          "title": "Chance to Act by Energy Level - 1900"
         }
        },
        {
         "data": [
          {
           "type": "scatter",
           "y": [
            0.5,
            0.5,
            0.5,
            0.5,
            0.99,
            0.99,
            0.5,
            0.01,
            0.01,
            0.19999999999999996,
            0.5
           ]
          },
          {
           "type": "scatter",
           "y": [
            0.5,
            0.5,
            0.5,
            0.99,
            0.99,
            0.99,
            0.5,
            0.01,
            0.3,
            0.19999999999999996,
            0.5
           ]
          }
         ],
         "layout": {
          "title": "Chance to Act by Energy Level - 2000"
         }
        },
        {
         "data": [
          {
           "type": "scatter",
           "y": [
            0.5,
            0.5,
            0.5,
            0.5,
            0.99,
            0.99,
            0.5,
            0.01,
            0.01,
            0.19999999999999996,
            0.5
           ]
          },
          {
           "type": "scatter",
           "y": [
            0.5,
            0.5,
            0.5,
            0.99,
            0.99,
            0.99,
            0.5,
            0.01,
            0.3,
            0.19999999999999996,
            0.5
           ]
          }
         ],
         "layout": {
          "title": "Chance to Act by Energy Level - 2100"
         }
        },
        {
         "data": [
          {
           "type": "scatter",
           "y": [
            0.5,
            0.5,
            0.5,
            0.5,
            0.99,
            0.99,
            0.5,
            0.01,
            0.01,
            0.19999999999999996,
            0.5
           ]
          },
          {
           "type": "scatter",
           "y": [
            0.5,
            0.5,
            0.5,
            0.99,
            0.99,
            0.99,
            0.5,
            0.01,
            0.3,
            0.19999999999999996,
            0.5
           ]
          }
         ],
         "layout": {
          "title": "Chance to Act by Energy Level - 2200"
         }
        },
        {
         "data": [
          {
           "type": "scatter",
           "y": [
            0.5,
            0.5,
            0.5,
            0.5,
            0.99,
            0.99,
            0.5,
            0.01,
            0.01,
            0.19999999999999996,
            0.5
           ]
          },
          {
           "type": "scatter",
           "y": [
            0.5,
            0.5,
            0.5,
            0.99,
            0.99,
            0.99,
            0.5,
            0.01,
            0.3,
            0.19999999999999996,
            0.5
           ]
          }
         ],
         "layout": {
          "title": "Chance to Act by Energy Level - 2300"
         }
        },
        {
         "data": [
          {
           "type": "scatter",
           "y": [
            0.5,
            0.5,
            0.5,
            0.5,
            0.99,
            0.99,
            0.5,
            0.01,
            0.01,
            0.19999999999999996,
            0.5
           ]
          },
          {
           "type": "scatter",
           "y": [
            0.5,
            0.5,
            0.5,
            0.99,
            0.99,
            0.99,
            0.5,
            0.01,
            0.3,
            0.19999999999999996,
            0.5
           ]
          }
         ],
         "layout": {
          "title": "Chance to Act by Energy Level - 2400"
         }
        },
        {
         "data": [
          {
           "type": "scatter",
           "y": [
            0.5,
            0.5,
            0.5,
            0.5,
            0.99,
            0.99,
            0.5,
            0.01,
            0.01,
            0.19999999999999996,
            0.5
           ]
          },
          {
           "type": "scatter",
           "y": [
            0.5,
            0.5,
            0.5,
            0.99,
            0.99,
            0.99,
            0.5,
            0.01,
            0.3,
            0.19999999999999996,
            0.5
           ]
          }
         ],
         "layout": {
          "title": "Chance to Act by Energy Level - 2500"
         }
        },
        {
         "data": [
          {
           "type": "scatter",
           "y": [
            0.5,
            0.5,
            0.5,
            0.5,
            0.99,
            0.99,
            0.5,
            0.01,
            0.01,
            0.19999999999999996,
            0.5
           ]
          },
          {
           "type": "scatter",
           "y": [
            0.5,
            0.5,
            0.5,
            0.99,
            0.99,
            0.99,
            0.5,
            0.01,
            0.3,
            0.19999999999999996,
            0.5
           ]
          }
         ],
         "layout": {
          "title": "Chance to Act by Energy Level - 2600"
         }
        },
        {
         "data": [
          {
           "type": "scatter",
           "y": [
            0.5,
            0.5,
            0.5,
            0.5,
            0.99,
            0.99,
            0.5,
            0.01,
            0.01,
            0.19999999999999996,
            0.5
           ]
          },
          {
           "type": "scatter",
           "y": [
            0.5,
            0.5,
            0.5,
            0.99,
            0.99,
            0.99,
            0.5,
            0.01,
            0.3,
            0.19999999999999996,
            0.5
           ]
          }
         ],
         "layout": {
          "title": "Chance to Act by Energy Level - 2700"
         }
        },
        {
         "data": [
          {
           "type": "scatter",
           "y": [
            0.5,
            0.5,
            0.5,
            0.5,
            0.99,
            0.99,
            0.5,
            0.01,
            0.01,
            0.19999999999999996,
            0.5
           ]
          },
          {
           "type": "scatter",
           "y": [
            0.5,
            0.5,
            0.5,
            0.99,
            0.99,
            0.99,
            0.5,
            0.01,
            0.3,
            0.19999999999999996,
            0.5
           ]
          }
         ],
         "layout": {
          "title": "Chance to Act by Energy Level - 2800"
         }
        },
        {
         "data": [
          {
           "type": "scatter",
           "y": [
            0.5,
            0.5,
            0.5,
            0.5,
            0.99,
            0.99,
            0.5,
            0.01,
            0.01,
            0.19999999999999996,
            0.5
           ]
          },
          {
           "type": "scatter",
           "y": [
            0.5,
            0.5,
            0.5,
            0.99,
            0.99,
            0.99,
            0.5,
            0.01,
            0.3,
            0.19999999999999996,
            0.5
           ]
          }
         ],
         "layout": {
          "title": "Chance to Act by Energy Level - 2900"
         }
        },
        {
         "data": [
          {
           "type": "scatter",
           "y": [
            0.5,
            0.5,
            0.5,
            0.5,
            0.99,
            0.99,
            0.5,
            0.01,
            0.01,
            0.19999999999999996,
            0.5
           ]
          },
          {
           "type": "scatter",
           "y": [
            0.5,
            0.5,
            0.5,
            0.99,
            0.99,
            0.99,
            0.5,
            0.01,
            0.3,
            0.19999999999999996,
            0.5
           ]
          }
         ],
         "layout": {
          "title": "Chance to Act by Energy Level - 3000"
         }
        },
        {
         "data": [
          {
           "type": "scatter",
           "y": [
            0.5,
            0.5,
            0.5,
            0.5,
            0.99,
            0.99,
            0.5,
            0.01,
            0.01,
            0.19999999999999996,
            0.5
           ]
          },
          {
           "type": "scatter",
           "y": [
            0.5,
            0.5,
            0.5,
            0.99,
            0.99,
            0.99,
            0.5,
            0.01,
            0.3,
            0.19999999999999996,
            0.5
           ]
          }
         ],
         "layout": {
          "title": "Chance to Act by Energy Level - 3100"
         }
        },
        {
         "data": [
          {
           "type": "scatter",
           "y": [
            0.5,
            0.5,
            0.5,
            0.5,
            0.99,
            0.99,
            0.5,
            0.01,
            0.01,
            0.19999999999999996,
            0.5
           ]
          },
          {
           "type": "scatter",
           "y": [
            0.5,
            0.5,
            0.5,
            0.99,
            0.99,
            0.99,
            0.5,
            0.01,
            0.3,
            0.19999999999999996,
            0.5
           ]
          }
         ],
         "layout": {
          "title": "Chance to Act by Energy Level - 3200"
         }
        },
        {
         "data": [
          {
           "type": "scatter",
           "y": [
            0.5,
            0.5,
            0.5,
            0.5,
            0.99,
            0.99,
            0.5,
            0.01,
            0.01,
            0.19999999999999996,
            0.5
           ]
          },
          {
           "type": "scatter",
           "y": [
            0.5,
            0.5,
            0.5,
            0.99,
            0.99,
            0.99,
            0.5,
            0.01,
            0.3,
            0.19999999999999996,
            0.5
           ]
          }
         ],
         "layout": {
          "title": "Chance to Act by Energy Level - 3300"
         }
        },
        {
         "data": [
          {
           "type": "scatter",
           "y": [
            0.5,
            0.5,
            0.5,
            0.5,
            0.99,
            0.99,
            0.5,
            0.01,
            0.01,
            0.19999999999999996,
            0.5
           ]
          },
          {
           "type": "scatter",
           "y": [
            0.5,
            0.5,
            0.5,
            0.99,
            0.99,
            0.99,
            0.5,
            0.01,
            0.3,
            0.19999999999999996,
            0.5
           ]
          }
         ],
         "layout": {
          "title": "Chance to Act by Energy Level - 3400"
         }
        },
        {
         "data": [
          {
           "type": "scatter",
           "y": [
            0.5,
            0.5,
            0.5,
            0.5,
            0.99,
            0.99,
            0.5,
            0.01,
            0.01,
            0.19999999999999996,
            0.5
           ]
          },
          {
           "type": "scatter",
           "y": [
            0.5,
            0.5,
            0.5,
            0.99,
            0.99,
            0.99,
            0.5,
            0.01,
            0.3,
            0.19999999999999996,
            0.5
           ]
          }
         ],
         "layout": {
          "title": "Chance to Act by Energy Level - 3500"
         }
        },
        {
         "data": [
          {
           "type": "scatter",
           "y": [
            0.5,
            0.5,
            0.5,
            0.5,
            0.99,
            0.99,
            0.5,
            0.01,
            0.01,
            0.19999999999999996,
            0.5
           ]
          },
          {
           "type": "scatter",
           "y": [
            0.5,
            0.5,
            0.5,
            0.99,
            0.99,
            0.99,
            0.5,
            0.01,
            0.09999999999999998,
            0.19999999999999996,
            0.5
           ]
          }
         ],
         "layout": {
          "title": "Chance to Act by Energy Level - 3600"
         }
        },
        {
         "data": [
          {
           "type": "scatter",
           "y": [
            0.5,
            0.5,
            0.5,
            0.5,
            0.99,
            0.99,
            0.5,
            0.01,
            0.01,
            0.19999999999999996,
            0.5
           ]
          },
          {
           "type": "scatter",
           "y": [
            0.5,
            0.5,
            0.5,
            0.99,
            0.99,
            0.99,
            0.5,
            0.01,
            0.09999999999999998,
            0.19999999999999996,
            0.5
           ]
          }
         ],
         "layout": {
          "title": "Chance to Act by Energy Level - 3700"
         }
        },
        {
         "data": [
          {
           "type": "scatter",
           "y": [
            0.5,
            0.5,
            0.5,
            0.5,
            0.99,
            0.99,
            0.5,
            0.01,
            0.01,
            0.19999999999999996,
            0.5
           ]
          },
          {
           "type": "scatter",
           "y": [
            0.5,
            0.5,
            0.5,
            0.99,
            0.99,
            0.99,
            0.5,
            0.01,
            0.09999999999999998,
            0.19999999999999996,
            0.5
           ]
          }
         ],
         "layout": {
          "title": "Chance to Act by Energy Level - 3800"
         }
        },
        {
         "data": [
          {
           "type": "scatter",
           "y": [
            0.5,
            0.5,
            0.5,
            0.5,
            0.99,
            0.99,
            0.5,
            0.01,
            0.01,
            0.19999999999999996,
            0.5
           ]
          },
          {
           "type": "scatter",
           "y": [
            0.5,
            0.5,
            0.5,
            0.99,
            0.99,
            0.99,
            0.5,
            0.01,
            0.09999999999999998,
            0.19999999999999996,
            0.5
           ]
          }
         ],
         "layout": {
          "title": "Chance to Act by Energy Level - 3900"
         }
        },
        {
         "data": [
          {
           "type": "scatter",
           "y": [
            0.5,
            0.5,
            0.5,
            0.5,
            0.99,
            0.99,
            0.5,
            0.01,
            0.01,
            0.19999999999999996,
            0.5
           ]
          },
          {
           "type": "scatter",
           "y": [
            0.5,
            0.5,
            0.5,
            0.99,
            0.99,
            0.99,
            0.5,
            0.01,
            0.09999999999999998,
            0.19999999999999996,
            0.5
           ]
          }
         ],
         "layout": {
          "title": "Chance to Act by Energy Level - 4000"
         }
        },
        {
         "data": [
          {
           "type": "scatter",
           "y": [
            0.5,
            0.5,
            0.5,
            0.5,
            0.99,
            0.99,
            0.5,
            0.01,
            0.01,
            0.19999999999999996,
            0.5
           ]
          },
          {
           "type": "scatter",
           "y": [
            0.5,
            0.5,
            0.5,
            0.99,
            0.99,
            0.99,
            0.5,
            0.01,
            0.09999999999999998,
            0.19999999999999996,
            0.5
           ]
          }
         ],
         "layout": {
          "title": "Chance to Act by Energy Level - 4100"
         }
        },
        {
         "data": [
          {
           "type": "scatter",
           "y": [
            0.5,
            0.5,
            0.5,
            0.5,
            0.99,
            0.99,
            0.5,
            0.01,
            0.01,
            0.19999999999999996,
            0.5
           ]
          },
          {
           "type": "scatter",
           "y": [
            0.5,
            0.5,
            0.5,
            0.99,
            0.99,
            0.99,
            0.5,
            0.01,
            0.09999999999999998,
            0.19999999999999996,
            0.5
           ]
          }
         ],
         "layout": {
          "title": "Chance to Act by Energy Level - 4200"
         }
        },
        {
         "data": [
          {
           "type": "scatter",
           "y": [
            0.5,
            0.5,
            0.5,
            0.5,
            0.99,
            0.99,
            0.5,
            0.01,
            0.01,
            0.19999999999999996,
            0.5
           ]
          },
          {
           "type": "scatter",
           "y": [
            0.5,
            0.5,
            0.5,
            0.99,
            0.99,
            0.99,
            0.5,
            0.01,
            0.09999999999999998,
            0.19999999999999996,
            0.5
           ]
          }
         ],
         "layout": {
          "title": "Chance to Act by Energy Level - 4300"
         }
        },
        {
         "data": [
          {
           "type": "scatter",
           "y": [
            0.5,
            0.5,
            0.5,
            0.5,
            0.99,
            0.99,
            0.5,
            0.01,
            0.01,
            0.19999999999999996,
            0.5
           ]
          },
          {
           "type": "scatter",
           "y": [
            0.5,
            0.5,
            0.5,
            0.99,
            0.99,
            0.99,
            0.5,
            0.01,
            0.09999999999999998,
            0.19999999999999996,
            0.5
           ]
          }
         ],
         "layout": {
          "title": "Chance to Act by Energy Level - 4400"
         }
        },
        {
         "data": [
          {
           "type": "scatter",
           "y": [
            0.5,
            0.5,
            0.5,
            0.5,
            0.99,
            0.99,
            0.5,
            0.01,
            0.01,
            0.19999999999999996,
            0.5
           ]
          },
          {
           "type": "scatter",
           "y": [
            0.5,
            0.5,
            0.5,
            0.99,
            0.99,
            0.99,
            0.5,
            0.01,
            0.09999999999999998,
            0.19999999999999996,
            0.5
           ]
          }
         ],
         "layout": {
          "title": "Chance to Act by Energy Level - 4500"
         }
        },
        {
         "data": [
          {
           "type": "scatter",
           "y": [
            0.5,
            0.5,
            0.5,
            0.5,
            0.99,
            0.99,
            0.5,
            0.01,
            0.01,
            0.19999999999999996,
            0.5
           ]
          },
          {
           "type": "scatter",
           "y": [
            0.5,
            0.5,
            0.5,
            0.99,
            0.99,
            0.99,
            0.5,
            0.01,
            0.09999999999999998,
            0.19999999999999996,
            0.5
           ]
          }
         ],
         "layout": {
          "title": "Chance to Act by Energy Level - 4600"
         }
        },
        {
         "data": [
          {
           "type": "scatter",
           "y": [
            0.5,
            0.5,
            0.5,
            0.5,
            0.99,
            0.99,
            0.5,
            0.01,
            0.01,
            0.19999999999999996,
            0.5
           ]
          },
          {
           "type": "scatter",
           "y": [
            0.5,
            0.5,
            0.5,
            0.99,
            0.99,
            0.99,
            0.5,
            0.01,
            0.09999999999999998,
            0.19999999999999996,
            0.5
           ]
          }
         ],
         "layout": {
          "title": "Chance to Act by Energy Level - 4700"
         }
        },
        {
         "data": [
          {
           "type": "scatter",
           "y": [
            0.5,
            0.5,
            0.5,
            0.5,
            0.99,
            0.99,
            0.5,
            0.01,
            0.01,
            0.19999999999999996,
            0.5
           ]
          },
          {
           "type": "scatter",
           "y": [
            0.5,
            0.5,
            0.5,
            0.99,
            0.99,
            0.99,
            0.5,
            0.01,
            0.09999999999999998,
            0.19999999999999996,
            0.5
           ]
          }
         ],
         "layout": {
          "title": "Chance to Act by Energy Level - 4800"
         }
        },
        {
         "data": [
          {
           "type": "scatter",
           "y": [
            0.5,
            0.5,
            0.5,
            0.5,
            0.99,
            0.99,
            0.5,
            0.01,
            0.01,
            0.19999999999999996,
            0.5
           ]
          },
          {
           "type": "scatter",
           "y": [
            0.5,
            0.5,
            0.5,
            0.99,
            0.99,
            0.99,
            0.5,
            0.01,
            0.09999999999999998,
            0.19999999999999996,
            0.5
           ]
          }
         ],
         "layout": {
          "title": "Chance to Act by Energy Level - 4900"
         }
        },
        {
         "data": [
          {
           "type": "scatter",
           "y": [
            0.5,
            0.5,
            0.5,
            0.5,
            0.99,
            0.99,
            0.5,
            0.01,
            0.01,
            0.19999999999999996,
            0.5
           ]
          },
          {
           "type": "scatter",
           "y": [
            0.5,
            0.5,
            0.5,
            0.99,
            0.99,
            0.99,
            0.5,
            0.01,
            0.09999999999999998,
            0.19999999999999996,
            0.5
           ]
          }
         ],
         "layout": {
          "title": "Chance to Act by Energy Level - 5000"
         }
        },
        {
         "data": [
          {
           "type": "scatter",
           "y": [
            0.5,
            0.5,
            0.5,
            0.5,
            0.99,
            0.99,
            0.5,
            0.01,
            0.01,
            0.19999999999999996,
            0.5
           ]
          },
          {
           "type": "scatter",
           "y": [
            0.5,
            0.5,
            0.5,
            0.99,
            0.99,
            0.99,
            0.5,
            0.01,
            0.09999999999999998,
            0.19999999999999996,
            0.5
           ]
          }
         ],
         "layout": {
          "title": "Chance to Act by Energy Level - 5100"
         }
        },
        {
         "data": [
          {
           "type": "scatter",
           "y": [
            0.5,
            0.5,
            0.5,
            0.5,
            0.99,
            0.99,
            0.5,
            0.01,
            0.01,
            0.19999999999999996,
            0.5
           ]
          },
          {
           "type": "scatter",
           "y": [
            0.5,
            0.5,
            0.5,
            0.99,
            0.99,
            0.99,
            0.5,
            0.01,
            0.09999999999999998,
            0.19999999999999996,
            0.5
           ]
          }
         ],
         "layout": {
          "title": "Chance to Act by Energy Level - 5200"
         }
        },
        {
         "data": [
          {
           "type": "scatter",
           "y": [
            0.5,
            0.5,
            0.5,
            0.5,
            0.99,
            0.99,
            0.5,
            0.01,
            0.01,
            0.19999999999999996,
            0.5
           ]
          },
          {
           "type": "scatter",
           "y": [
            0.5,
            0.5,
            0.5,
            0.99,
            0.99,
            0.99,
            0.5,
            0.01,
            0.09999999999999998,
            0.19999999999999996,
            0.5
           ]
          }
         ],
         "layout": {
          "title": "Chance to Act by Energy Level - 5300"
         }
        },
        {
         "data": [
          {
           "type": "scatter",
           "y": [
            0.5,
            0.5,
            0.5,
            0.5,
            0.99,
            0.99,
            0.5,
            0.01,
            0.01,
            0.19999999999999996,
            0.5
           ]
          },
          {
           "type": "scatter",
           "y": [
            0.5,
            0.5,
            0.5,
            0.99,
            0.99,
            0.99,
            0.5,
            0.01,
            0.09999999999999998,
            0.19999999999999996,
            0.5
           ]
          }
         ],
         "layout": {
          "title": "Chance to Act by Energy Level - 5400"
         }
        },
        {
         "data": [
          {
           "type": "scatter",
           "y": [
            0.5,
            0.5,
            0.5,
            0.5,
            0.99,
            0.99,
            0.5,
            0.01,
            0.01,
            0.19999999999999996,
            0.5
           ]
          },
          {
           "type": "scatter",
           "y": [
            0.5,
            0.5,
            0.5,
            0.99,
            0.99,
            0.99,
            0.5,
            0.01,
            0.09999999999999998,
            0.19999999999999996,
            0.5
           ]
          }
         ],
         "layout": {
          "title": "Chance to Act by Energy Level - 5500"
         }
        },
        {
         "data": [
          {
           "type": "scatter",
           "y": [
            0.5,
            0.5,
            0.5,
            0.5,
            0.99,
            0.99,
            0.5,
            0.01,
            0.01,
            0.19999999999999996,
            0.5
           ]
          },
          {
           "type": "scatter",
           "y": [
            0.5,
            0.5,
            0.5,
            0.99,
            0.99,
            0.99,
            0.5,
            0.01,
            0.09999999999999998,
            0.19999999999999996,
            0.5
           ]
          }
         ],
         "layout": {
          "title": "Chance to Act by Energy Level - 5600"
         }
        },
        {
         "data": [
          {
           "type": "scatter",
           "y": [
            0.5,
            0.5,
            0.5,
            0.5,
            0.99,
            0.99,
            0.5,
            0.01,
            0.01,
            0.19999999999999996,
            0.5
           ]
          },
          {
           "type": "scatter",
           "y": [
            0.5,
            0.5,
            0.5,
            0.99,
            0.99,
            0.99,
            0.5,
            0.01,
            0.09999999999999998,
            0.19999999999999996,
            0.5
           ]
          }
         ],
         "layout": {
          "title": "Chance to Act by Energy Level - 5700"
         }
        },
        {
         "data": [
          {
           "type": "scatter",
           "y": [
            0.5,
            0.5,
            0.5,
            0.5,
            0.99,
            0.99,
            0.5,
            0.01,
            0.01,
            0.19999999999999996,
            0.5
           ]
          },
          {
           "type": "scatter",
           "y": [
            0.5,
            0.5,
            0.5,
            0.99,
            0.99,
            0.99,
            0.5,
            0.01,
            0.09999999999999998,
            0.19999999999999996,
            0.5
           ]
          }
         ],
         "layout": {
          "title": "Chance to Act by Energy Level - 5800"
         }
        },
        {
         "data": [
          {
           "type": "scatter",
           "y": [
            0.5,
            0.5,
            0.5,
            0.5,
            0.99,
            0.99,
            0.5,
            0.01,
            0.01,
            0.19999999999999996,
            0.5
           ]
          },
          {
           "type": "scatter",
           "y": [
            0.5,
            0.5,
            0.5,
            0.99,
            0.99,
            0.99,
            0.5,
            0.01,
            0.09999999999999998,
            0.19999999999999996,
            0.5
           ]
          }
         ],
         "layout": {
          "title": "Chance to Act by Energy Level - 5900"
         }
        },
        {
         "data": [
          {
           "type": "scatter",
           "y": [
            0.5,
            0.5,
            0.5,
            0.5,
            0.99,
            0.99,
            0.5,
            0.01,
            0.01,
            0.19999999999999996,
            0.5
           ]
          },
          {
           "type": "scatter",
           "y": [
            0.5,
            0.5,
            0.5,
            0.99,
            0.99,
            0.99,
            0.5,
            0.01,
            0.09999999999999998,
            0.19999999999999996,
            0.5
           ]
          }
         ],
         "layout": {
          "title": "Chance to Act by Energy Level - 6000"
         }
        },
        {
         "data": [
          {
           "type": "scatter",
           "y": [
            0.5,
            0.5,
            0.5,
            0.5,
            0.99,
            0.99,
            0.5,
            0.01,
            0.01,
            0.19999999999999996,
            0.5
           ]
          },
          {
           "type": "scatter",
           "y": [
            0.5,
            0.5,
            0.5,
            0.99,
            0.99,
            0.99,
            0.5,
            0.01,
            0.09999999999999998,
            0.19999999999999996,
            0.5
           ]
          }
         ],
         "layout": {
          "title": "Chance to Act by Energy Level - 6100"
         }
        },
        {
         "data": [
          {
           "type": "scatter",
           "y": [
            0.5,
            0.5,
            0.5,
            0.5,
            0.99,
            0.99,
            0.5,
            0.01,
            0.01,
            0.19999999999999996,
            0.5
           ]
          },
          {
           "type": "scatter",
           "y": [
            0.5,
            0.5,
            0.5,
            0.99,
            0.99,
            0.99,
            0.5,
            0.01,
            0.09999999999999998,
            0.19999999999999996,
            0.5
           ]
          }
         ],
         "layout": {
          "title": "Chance to Act by Energy Level - 6200"
         }
        },
        {
         "data": [
          {
           "type": "scatter",
           "y": [
            0.5,
            0.5,
            0.5,
            0.5,
            0.99,
            0.99,
            0.5,
            0.01,
            0.01,
            0.19999999999999996,
            0.5
           ]
          },
          {
           "type": "scatter",
           "y": [
            0.5,
            0.5,
            0.5,
            0.99,
            0.99,
            0.99,
            0.5,
            0.01,
            0.09999999999999998,
            0.19999999999999996,
            0.5
           ]
          }
         ],
         "layout": {
          "title": "Chance to Act by Energy Level - 6300"
         }
        },
        {
         "data": [
          {
           "type": "scatter",
           "y": [
            0.5,
            0.5,
            0.5,
            0.5,
            0.99,
            0.99,
            0.5,
            0.01,
            0.01,
            0.19999999999999996,
            0.5
           ]
          },
          {
           "type": "scatter",
           "y": [
            0.5,
            0.5,
            0.5,
            0.99,
            0.99,
            0.99,
            0.5,
            0.01,
            0.09999999999999998,
            0.19999999999999996,
            0.5
           ]
          }
         ],
         "layout": {
          "title": "Chance to Act by Energy Level - 6400"
         }
        },
        {
         "data": [
          {
           "type": "scatter",
           "y": [
            0.5,
            0.5,
            0.5,
            0.5,
            0.99,
            0.99,
            0.5,
            0.01,
            0.01,
            0.19999999999999996,
            0.5
           ]
          },
          {
           "type": "scatter",
           "y": [
            0.5,
            0.5,
            0.5,
            0.99,
            0.99,
            0.99,
            0.5,
            0.01,
            0.09999999999999998,
            0.19999999999999996,
            0.5
           ]
          }
         ],
         "layout": {
          "title": "Chance to Act by Energy Level - 6500"
         }
        },
        {
         "data": [
          {
           "type": "scatter",
           "y": [
            0.5,
            0.5,
            0.5,
            0.5,
            0.99,
            0.99,
            0.5,
            0.01,
            0.01,
            0.19999999999999996,
            0.5
           ]
          },
          {
           "type": "scatter",
           "y": [
            0.5,
            0.5,
            0.5,
            0.99,
            0.99,
            0.99,
            0.5,
            0.01,
            0.09999999999999998,
            0.19999999999999996,
            0.5
           ]
          }
         ],
         "layout": {
          "title": "Chance to Act by Energy Level - 6600"
         }
        },
        {
         "data": [
          {
           "type": "scatter",
           "y": [
            0.5,
            0.5,
            0.5,
            0.5,
            0.99,
            0.99,
            0.5,
            0.01,
            0.01,
            0.19999999999999996,
            0.5
           ]
          },
          {
           "type": "scatter",
           "y": [
            0.5,
            0.5,
            0.5,
            0.99,
            0.99,
            0.99,
            0.5,
            0.01,
            0.09999999999999998,
            0.19999999999999996,
            0.5
           ]
          }
         ],
         "layout": {
          "title": "Chance to Act by Energy Level - 6700"
         }
        },
        {
         "data": [
          {
           "type": "scatter",
           "y": [
            0.5,
            0.5,
            0.5,
            0.5,
            0.99,
            0.99,
            0.5,
            0.01,
            0.01,
            0.19999999999999996,
            0.5
           ]
          },
          {
           "type": "scatter",
           "y": [
            0.5,
            0.5,
            0.5,
            0.99,
            0.99,
            0.99,
            0.5,
            0.01,
            0.09999999999999998,
            0.19999999999999996,
            0.5
           ]
          }
         ],
         "layout": {
          "title": "Chance to Act by Energy Level - 6800"
         }
        },
        {
         "data": [
          {
           "type": "scatter",
           "y": [
            0.5,
            0.5,
            0.5,
            0.5,
            0.99,
            0.99,
            0.5,
            0.01,
            0.01,
            0.19999999999999996,
            0.5
           ]
          },
          {
           "type": "scatter",
           "y": [
            0.5,
            0.5,
            0.5,
            0.99,
            0.99,
            0.99,
            0.5,
            0.01,
            0.09999999999999998,
            0.19999999999999996,
            0.5
           ]
          }
         ],
         "layout": {
          "title": "Chance to Act by Energy Level - 6900"
         }
        },
        {
         "data": [
          {
           "type": "scatter",
           "y": [
            0.5,
            0.5,
            0.5,
            0.5,
            0.99,
            0.99,
            0.5,
            0.01,
            0.01,
            0.19999999999999996,
            0.5
           ]
          },
          {
           "type": "scatter",
           "y": [
            0.5,
            0.5,
            0.5,
            0.99,
            0.99,
            0.99,
            0.5,
            0.01,
            0.09999999999999998,
            0.19999999999999996,
            0.5
           ]
          }
         ],
         "layout": {
          "title": "Chance to Act by Energy Level - 7000"
         }
        },
        {
         "data": [
          {
           "type": "scatter",
           "y": [
            0.5,
            0.5,
            0.5,
            0.5,
            0.99,
            0.99,
            0.5,
            0.01,
            0.01,
            0.19999999999999996,
            0.5
           ]
          },
          {
           "type": "scatter",
           "y": [
            0.5,
            0.5,
            0.5,
            0.99,
            0.99,
            0.99,
            0.5,
            0.01,
            0.09999999999999998,
            0.19999999999999996,
            0.5
           ]
          }
         ],
         "layout": {
          "title": "Chance to Act by Energy Level - 7100"
         }
        },
        {
         "data": [
          {
           "type": "scatter",
           "y": [
            0.5,
            0.5,
            0.5,
            0.5,
            0.99,
            0.99,
            0.5,
            0.01,
            0.01,
            0.19999999999999996,
            0.5
           ]
          },
          {
           "type": "scatter",
           "y": [
            0.5,
            0.5,
            0.5,
            0.99,
            0.99,
            0.99,
            0.5,
            0.01,
            0.09999999999999998,
            0.19999999999999996,
            0.5
           ]
          }
         ],
         "layout": {
          "title": "Chance to Act by Energy Level - 7200"
         }
        },
        {
         "data": [
          {
           "type": "scatter",
           "y": [
            0.5,
            0.5,
            0.5,
            0.5,
            0.99,
            0.99,
            0.5,
            0.01,
            0.01,
            0.19999999999999996,
            0.5
           ]
          },
          {
           "type": "scatter",
           "y": [
            0.5,
            0.5,
            0.5,
            0.99,
            0.99,
            0.99,
            0.5,
            0.01,
            0.09999999999999998,
            0.19999999999999996,
            0.5
           ]
          }
         ],
         "layout": {
          "title": "Chance to Act by Energy Level - 7300"
         }
        },
        {
         "data": [
          {
           "type": "scatter",
           "y": [
            0.5,
            0.5,
            0.5,
            0.5,
            0.99,
            0.99,
            0.5,
            0.01,
            0.01,
            0.19999999999999996,
            0.5
           ]
          },
          {
           "type": "scatter",
           "y": [
            0.5,
            0.5,
            0.5,
            0.99,
            0.99,
            0.99,
            0.5,
            0.01,
            0.09999999999999998,
            0.19999999999999996,
            0.5
           ]
          }
         ],
         "layout": {
          "title": "Chance to Act by Energy Level - 7400"
         }
        },
        {
         "data": [
          {
           "type": "scatter",
           "y": [
            0.5,
            0.5,
            0.5,
            0.5,
            0.99,
            0.99,
            0.5,
            0.01,
            0.01,
            0.19999999999999996,
            0.5
           ]
          },
          {
           "type": "scatter",
           "y": [
            0.5,
            0.5,
            0.5,
            0.99,
            0.99,
            0.99,
            0.5,
            0.01,
            0.09999999999999998,
            0.19999999999999996,
            0.5
           ]
          }
         ],
         "layout": {
          "title": "Chance to Act by Energy Level - 7500"
         }
        },
        {
         "data": [
          {
           "type": "scatter",
           "y": [
            0.5,
            0.5,
            0.5,
            0.5,
            0.99,
            0.99,
            0.5,
            0.01,
            0.01,
            0.19999999999999996,
            0.5
           ]
          },
          {
           "type": "scatter",
           "y": [
            0.5,
            0.5,
            0.5,
            0.99,
            0.99,
            0.99,
            0.5,
            0.01,
            0.09999999999999998,
            0.19999999999999996,
            0.5
           ]
          }
         ],
         "layout": {
          "title": "Chance to Act by Energy Level - 7600"
         }
        },
        {
         "data": [
          {
           "type": "scatter",
           "y": [
            0.5,
            0.5,
            0.5,
            0.5,
            0.99,
            0.99,
            0.5,
            0.01,
            0.01,
            0.19999999999999996,
            0.5
           ]
          },
          {
           "type": "scatter",
           "y": [
            0.5,
            0.5,
            0.5,
            0.99,
            0.99,
            0.99,
            0.5,
            0.01,
            0.09999999999999998,
            0.19999999999999996,
            0.5
           ]
          }
         ],
         "layout": {
          "title": "Chance to Act by Energy Level - 7700"
         }
        },
        {
         "data": [
          {
           "type": "scatter",
           "y": [
            0.5,
            0.5,
            0.5,
            0.5,
            0.99,
            0.99,
            0.5,
            0.01,
            0.01,
            0.19999999999999996,
            0.5
           ]
          },
          {
           "type": "scatter",
           "y": [
            0.5,
            0.5,
            0.5,
            0.99,
            0.99,
            0.99,
            0.5,
            0.01,
            0.09999999999999998,
            0.19999999999999996,
            0.5
           ]
          }
         ],
         "layout": {
          "title": "Chance to Act by Energy Level - 7800"
         }
        },
        {
         "data": [
          {
           "type": "scatter",
           "y": [
            0.5,
            0.5,
            0.5,
            0.5,
            0.99,
            0.99,
            0.5,
            0.01,
            0.01,
            0.19999999999999996,
            0.5
           ]
          },
          {
           "type": "scatter",
           "y": [
            0.5,
            0.5,
            0.5,
            0.99,
            0.99,
            0.99,
            0.5,
            0.01,
            0.09999999999999998,
            0.19999999999999996,
            0.5
           ]
          }
         ],
         "layout": {
          "title": "Chance to Act by Energy Level - 7900"
         }
        },
        {
         "data": [
          {
           "type": "scatter",
           "y": [
            0.5,
            0.5,
            0.5,
            0.5,
            0.99,
            0.99,
            0.5,
            0.01,
            0.01,
            0.19999999999999996,
            0.5
           ]
          },
          {
           "type": "scatter",
           "y": [
            0.5,
            0.5,
            0.5,
            0.99,
            0.99,
            0.99,
            0.5,
            0.01,
            0.09999999999999998,
            0.19999999999999996,
            0.5
           ]
          }
         ],
         "layout": {
          "title": "Chance to Act by Energy Level - 8000"
         }
        },
        {
         "data": [
          {
           "type": "scatter",
           "y": [
            0.5,
            0.5,
            0.5,
            0.5,
            0.99,
            0.99,
            0.5,
            0.01,
            0.01,
            0.19999999999999996,
            0.5
           ]
          },
          {
           "type": "scatter",
           "y": [
            0.5,
            0.5,
            0.5,
            0.99,
            0.99,
            0.99,
            0.5,
            0.01,
            0.09999999999999998,
            0.19999999999999996,
            0.5
           ]
          }
         ],
         "layout": {
          "title": "Chance to Act by Energy Level - 8100"
         }
        },
        {
         "data": [
          {
           "type": "scatter",
           "y": [
            0.5,
            0.5,
            0.5,
            0.5,
            0.99,
            0.99,
            0.5,
            0.01,
            0.01,
            0.19999999999999996,
            0.5
           ]
          },
          {
           "type": "scatter",
           "y": [
            0.5,
            0.5,
            0.5,
            0.99,
            0.99,
            0.99,
            0.5,
            0.01,
            0.09999999999999998,
            0.19999999999999996,
            0.5
           ]
          }
         ],
         "layout": {
          "title": "Chance to Act by Energy Level - 8200"
         }
        },
        {
         "data": [
          {
           "type": "scatter",
           "y": [
            0.5,
            0.5,
            0.5,
            0.5,
            0.99,
            0.99,
            0.5,
            0.01,
            0.01,
            0.19999999999999996,
            0.5
           ]
          },
          {
           "type": "scatter",
           "y": [
            0.5,
            0.5,
            0.5,
            0.99,
            0.99,
            0.99,
            0.5,
            0.01,
            0.09999999999999998,
            0.19999999999999996,
            0.5
           ]
          }
         ],
         "layout": {
          "title": "Chance to Act by Energy Level - 8300"
         }
        },
        {
         "data": [
          {
           "type": "scatter",
           "y": [
            0.5,
            0.5,
            0.5,
            0.5,
            0.99,
            0.99,
            0.5,
            0.01,
            0.01,
            0.19999999999999996,
            0.5
           ]
          },
          {
           "type": "scatter",
           "y": [
            0.5,
            0.5,
            0.5,
            0.99,
            0.99,
            0.99,
            0.5,
            0.01,
            0.09999999999999998,
            0.19999999999999996,
            0.5
           ]
          }
         ],
         "layout": {
          "title": "Chance to Act by Energy Level - 8400"
         }
        },
        {
         "data": [
          {
           "type": "scatter",
           "y": [
            0.5,
            0.5,
            0.5,
            0.5,
            0.99,
            0.99,
            0.5,
            0.01,
            0.01,
            0.19999999999999996,
            0.5
           ]
          },
          {
           "type": "scatter",
           "y": [
            0.5,
            0.5,
            0.5,
            0.99,
            0.99,
            0.99,
            0.5,
            0.01,
            0.09999999999999998,
            0.19999999999999996,
            0.5
           ]
          }
         ],
         "layout": {
          "title": "Chance to Act by Energy Level - 8500"
         }
        },
        {
         "data": [
          {
           "type": "scatter",
           "y": [
            0.5,
            0.5,
            0.5,
            0.5,
            0.99,
            0.99,
            0.5,
            0.01,
            0.01,
            0.19999999999999996,
            0.5
           ]
          },
          {
           "type": "scatter",
           "y": [
            0.5,
            0.5,
            0.5,
            0.99,
            0.99,
            0.99,
            0.5,
            0.01,
            0.09999999999999998,
            0.19999999999999996,
            0.5
           ]
          }
         ],
         "layout": {
          "title": "Chance to Act by Energy Level - 8600"
         }
        },
        {
         "data": [
          {
           "type": "scatter",
           "y": [
            0.5,
            0.5,
            0.5,
            0.5,
            0.99,
            0.99,
            0.5,
            0.01,
            0.01,
            0.19999999999999996,
            0.5
           ]
          },
          {
           "type": "scatter",
           "y": [
            0.5,
            0.5,
            0.5,
            0.99,
            0.99,
            0.99,
            0.5,
            0.01,
            0.09999999999999998,
            0.19999999999999996,
            0.5
           ]
          }
         ],
         "layout": {
          "title": "Chance to Act by Energy Level - 8700"
         }
        },
        {
         "data": [
          {
           "type": "scatter",
           "y": [
            0.5,
            0.5,
            0.5,
            0.5,
            0.99,
            0.99,
            0.5,
            0.01,
            0.01,
            0.19999999999999996,
            0.5
           ]
          },
          {
           "type": "scatter",
           "y": [
            0.5,
            0.5,
            0.5,
            0.99,
            0.99,
            0.99,
            0.5,
            0.01,
            0.09999999999999998,
            0.19999999999999996,
            0.5
           ]
          }
         ],
         "layout": {
          "title": "Chance to Act by Energy Level - 8800"
         }
        },
        {
         "data": [
          {
           "type": "scatter",
           "y": [
            0.5,
            0.5,
            0.5,
            0.5,
            0.99,
            0.99,
            0.5,
            0.01,
            0.01,
            0.19999999999999996,
            0.5
           ]
          },
          {
           "type": "scatter",
           "y": [
            0.5,
            0.5,
            0.5,
            0.99,
            0.99,
            0.99,
            0.5,
            0.01,
            0.09999999999999998,
            0.19999999999999996,
            0.5
           ]
          }
         ],
         "layout": {
          "title": "Chance to Act by Energy Level - 8900"
         }
        },
        {
         "data": [
          {
           "type": "scatter",
           "y": [
            0.5,
            0.5,
            0.5,
            0.5,
            0.99,
            0.99,
            0.5,
            0.01,
            0.01,
            0.19999999999999996,
            0.5
           ]
          },
          {
           "type": "scatter",
           "y": [
            0.5,
            0.5,
            0.5,
            0.99,
            0.99,
            0.99,
            0.5,
            0.01,
            0.09999999999999998,
            0.19999999999999996,
            0.5
           ]
          }
         ],
         "layout": {
          "title": "Chance to Act by Energy Level - 9000"
         }
        },
        {
         "data": [
          {
           "type": "scatter",
           "y": [
            0.5,
            0.5,
            0.5,
            0.5,
            0.99,
            0.99,
            0.5,
            0.01,
            0.01,
            0.19999999999999996,
            0.5
           ]
          },
          {
           "type": "scatter",
           "y": [
            0.5,
            0.5,
            0.5,
            0.99,
            0.99,
            0.99,
            0.5,
            0.01,
            0.09999999999999998,
            0.19999999999999996,
            0.5
           ]
          }
         ],
         "layout": {
          "title": "Chance to Act by Energy Level - 9100"
         }
        },
        {
         "data": [
          {
           "type": "scatter",
           "y": [
            0.5,
            0.5,
            0.5,
            0.5,
            0.99,
            0.99,
            0.5,
            0.01,
            0.01,
            0.19999999999999996,
            0.5
           ]
          },
          {
           "type": "scatter",
           "y": [
            0.5,
            0.5,
            0.5,
            0.99,
            0.99,
            0.99,
            0.5,
            0.01,
            0.09999999999999998,
            0.19999999999999996,
            0.5
           ]
          }
         ],
         "layout": {
          "title": "Chance to Act by Energy Level - 9200"
         }
        },
        {
         "data": [
          {
           "type": "scatter",
           "y": [
            0.5,
            0.5,
            0.5,
            0.5,
            0.99,
            0.99,
            0.5,
            0.01,
            0.01,
            0.19999999999999996,
            0.5
           ]
          },
          {
           "type": "scatter",
           "y": [
            0.5,
            0.5,
            0.5,
            0.99,
            0.99,
            0.99,
            0.5,
            0.01,
            0.09999999999999998,
            0.19999999999999996,
            0.5
           ]
          }
         ],
         "layout": {
          "title": "Chance to Act by Energy Level - 9300"
         }
        },
        {
         "data": [
          {
           "type": "scatter",
           "y": [
            0.5,
            0.5,
            0.5,
            0.5,
            0.99,
            0.99,
            0.5,
            0.01,
            0.01,
            0.19999999999999996,
            0.5
           ]
          },
          {
           "type": "scatter",
           "y": [
            0.5,
            0.5,
            0.5,
            0.99,
            0.99,
            0.99,
            0.5,
            0.01,
            0.09999999999999998,
            0.19999999999999996,
            0.5
           ]
          }
         ],
         "layout": {
          "title": "Chance to Act by Energy Level - 9400"
         }
        },
        {
         "data": [
          {
           "type": "scatter",
           "y": [
            0.5,
            0.5,
            0.5,
            0.5,
            0.99,
            0.99,
            0.5,
            0.01,
            0.01,
            0.19999999999999996,
            0.5
           ]
          },
          {
           "type": "scatter",
           "y": [
            0.5,
            0.5,
            0.5,
            0.99,
            0.99,
            0.99,
            0.5,
            0.01,
            0.09999999999999998,
            0.19999999999999996,
            0.5
           ]
          }
         ],
         "layout": {
          "title": "Chance to Act by Energy Level - 9500"
         }
        },
        {
         "data": [
          {
           "type": "scatter",
           "y": [
            0.5,
            0.5,
            0.5,
            0.5,
            0.99,
            0.99,
            0.5,
            0.01,
            0.01,
            0.19999999999999996,
            0.5
           ]
          },
          {
           "type": "scatter",
           "y": [
            0.5,
            0.5,
            0.5,
            0.99,
            0.99,
            0.99,
            0.5,
            0.01,
            0.09999999999999998,
            0.19999999999999996,
            0.5
           ]
          }
         ],
         "layout": {
          "title": "Chance to Act by Energy Level - 9600"
         }
        },
        {
         "data": [
          {
           "type": "scatter",
           "y": [
            0.5,
            0.5,
            0.5,
            0.5,
            0.99,
            0.99,
            0.5,
            0.01,
            0.01,
            0.19999999999999996,
            0.5
           ]
          },
          {
           "type": "scatter",
           "y": [
            0.5,
            0.5,
            0.5,
            0.99,
            0.99,
            0.99,
            0.5,
            0.01,
            0.09999999999999998,
            0.19999999999999996,
            0.5
           ]
          }
         ],
         "layout": {
          "title": "Chance to Act by Energy Level - 9700"
         }
        },
        {
         "data": [
          {
           "type": "scatter",
           "y": [
            0.5,
            0.5,
            0.5,
            0.5,
            0.99,
            0.99,
            0.5,
            0.01,
            0.01,
            0.19999999999999996,
            0.5
           ]
          },
          {
           "type": "scatter",
           "y": [
            0.5,
            0.5,
            0.5,
            0.99,
            0.99,
            0.99,
            0.5,
            0.01,
            0.09999999999999998,
            0.19999999999999996,
            0.5
           ]
          }
         ],
         "layout": {
          "title": "Chance to Act by Energy Level - 9800"
         }
        },
        {
         "data": [
          {
           "type": "scatter",
           "y": [
            0.5,
            0.5,
            0.5,
            0.5,
            0.99,
            0.99,
            0.5,
            0.01,
            0.01,
            0.19999999999999996,
            0.5
           ]
          },
          {
           "type": "scatter",
           "y": [
            0.5,
            0.5,
            0.5,
            0.99,
            0.99,
            0.99,
            0.5,
            0.01,
            0.09999999999999998,
            0.19999999999999996,
            0.5
           ]
          }
         ],
         "layout": {
          "title": "Chance to Act by Energy Level - 9900"
         }
        }
       ],
       "layout": {
        "title": "Chance to Act by Energy Level - 0",
        "updatemenus": [
         {
          "buttons": [
           {
            "args": [
             null,
             {
              "frame": {
               "duration": 0,
               "redraw": true
              },
              "mode": "next",
              "transition": {
               "duration": 0,
               "easing": "linear"
              }
             }
            ],
            "label": "Play",
            "method": "animate"
           }
          ],
          "type": "buttons"
         }
        ],
        "yaxis": {
         "autorange": false,
         "range": [
          0,
          1
         ]
        }
       }
      },
      "text/html": [
       "<div id=\"7a9a0664-9727-4dd3-b195-869f34493e5d\" style=\"height: 525px; width: 100%;\" class=\"plotly-graph-div\"></div><script type=\"text/javascript\">require([\"plotly\"], function(Plotly) { window.PLOTLYENV=window.PLOTLYENV || {};window.PLOTLYENV.BASE_URL=\"https://plot.ly\";\n",
       "        Plotly.plot(\n",
       "            '7a9a0664-9727-4dd3-b195-869f34493e5d',\n",
       "            [{\"name\": \"Cheese\", \"y\": [0.5, 0.5, 0.5, 0.5, 0.5, 0.5, 0.5, 0.5, 0.5, 0.5, 0.5], \"type\": \"scatter\", \"uid\": \"5733af1c-a2aa-11e8-96a9-d8cb8a18bb65\"}, {\"name\": \"No Cheese\", \"y\": [0.5, 0.5, 0.5, 0.5, 0.5, 0.5, 0.5, 0.5, 0.5, 0.5, 0.5], \"type\": \"scatter\", \"uid\": \"5733af1d-a2aa-11e8-8776-d8cb8a18bb65\"}],\n",
       "            {\"title\": \"Chance to Act by Energy Level - 0\", \"updatemenus\": [{\"buttons\": [{\"args\": [null, {\"frame\": {\"duration\": 0, \"redraw\": true}, \"mode\": \"next\", \"transition\": {\"duration\": 0, \"easing\": \"linear\"}}], \"label\": \"Play\", \"method\": \"animate\"}], \"type\": \"buttons\"}], \"yaxis\": {\"autorange\": false, \"range\": [0, 1]}},\n",
       "            {\"showLink\": true, \"linkText\": \"Export to plot.ly\"}\n",
       "        ).then(function () {return Plotly.addFrames('7a9a0664-9727-4dd3-b195-869f34493e5d',[{\"data\": [{\"y\": [0.5, 0.5, 0.5, 0.5, 0.5, 0.5, 0.5, 0.5, 0.5, 0.5, 0.5], \"type\": \"scatter\"}, {\"y\": [0.5, 0.5, 0.5, 0.5, 0.5, 0.5, 0.5, 0.5, 0.5, 0.5, 0.5], \"type\": \"scatter\"}], \"layout\": {\"title\": \"Chance to Act by Energy Level - 0\"}}, {\"data\": [{\"y\": [0.5, 0.5, 0.5, 0.5, 0.5, 0.8999999999999999, 0.5, 0.01, 0.01, 0.19999999999999996, 0.5], \"type\": \"scatter\"}, {\"y\": [0.5, 0.5, 0.5, 0.5, 0.99, 0.99, 0.5, 0.01, 0.3, 0.19999999999999996, 0.5], \"type\": \"scatter\"}], \"layout\": {\"title\": \"Chance to Act by Energy Level - 100\"}}, {\"data\": [{\"y\": [0.5, 0.5, 0.5, 0.5, 0.5, 0.99, 0.5, 0.01, 0.01, 0.19999999999999996, 0.5], \"type\": \"scatter\"}, {\"y\": [0.5, 0.5, 0.5, 0.5, 0.99, 0.99, 0.5, 0.01, 0.3, 0.19999999999999996, 0.5], \"type\": \"scatter\"}], \"layout\": {\"title\": \"Chance to Act by Energy Level - 200\"}}, {\"data\": [{\"y\": [0.5, 0.5, 0.5, 0.5, 0.5, 0.99, 0.5, 0.01, 0.01, 0.19999999999999996, 0.5], \"type\": \"scatter\"}, {\"y\": [0.5, 0.5, 0.5, 0.5, 0.99, 0.99, 0.5, 0.01, 0.3, 0.19999999999999996, 0.5], \"type\": \"scatter\"}], \"layout\": {\"title\": \"Chance to Act by Energy Level - 300\"}}, {\"data\": [{\"y\": [0.5, 0.5, 0.5, 0.5, 0.5, 0.99, 0.5, 0.01, 0.01, 0.19999999999999996, 0.5], \"type\": \"scatter\"}, {\"y\": [0.5, 0.5, 0.5, 0.5, 0.99, 0.99, 0.5, 0.01, 0.3, 0.19999999999999996, 0.5], \"type\": \"scatter\"}], \"layout\": {\"title\": \"Chance to Act by Energy Level - 400\"}}, {\"data\": [{\"y\": [0.5, 0.5, 0.5, 0.5, 0.5, 0.99, 0.5, 0.01, 0.01, 0.19999999999999996, 0.5], \"type\": \"scatter\"}, {\"y\": [0.5, 0.5, 0.5, 0.5, 0.99, 0.99, 0.5, 0.01, 0.3, 0.19999999999999996, 0.5], \"type\": \"scatter\"}], \"layout\": {\"title\": \"Chance to Act by Energy Level - 500\"}}, {\"data\": [{\"y\": [0.5, 0.5, 0.5, 0.5, 0.5, 0.99, 0.5, 0.01, 0.01, 0.19999999999999996, 0.5], \"type\": \"scatter\"}, {\"y\": [0.5, 0.5, 0.5, 0.5, 0.99, 0.99, 0.5, 0.01, 0.3, 0.19999999999999996, 0.5], \"type\": \"scatter\"}], \"layout\": {\"title\": \"Chance to Act by Energy Level - 600\"}}, {\"data\": [{\"y\": [0.5, 0.5, 0.5, 0.5, 0.5, 0.99, 0.5, 0.01, 0.01, 0.19999999999999996, 0.5], \"type\": \"scatter\"}, {\"y\": [0.5, 0.5, 0.5, 0.5, 0.99, 0.99, 0.5, 0.01, 0.3, 0.19999999999999996, 0.5], \"type\": \"scatter\"}], \"layout\": {\"title\": \"Chance to Act by Energy Level - 700\"}}, {\"data\": [{\"y\": [0.5, 0.5, 0.5, 0.5, 0.5, 0.99, 0.5, 0.01, 0.01, 0.19999999999999996, 0.5], \"type\": \"scatter\"}, {\"y\": [0.5, 0.5, 0.5, 0.5, 0.99, 0.99, 0.5, 0.01, 0.3, 0.19999999999999996, 0.5], \"type\": \"scatter\"}], \"layout\": {\"title\": \"Chance to Act by Energy Level - 800\"}}, {\"data\": [{\"y\": [0.5, 0.5, 0.5, 0.5, 0.8999999999999999, 0.99, 0.5, 0.01, 0.01, 0.19999999999999996, 0.5], \"type\": \"scatter\"}, {\"y\": [0.5, 0.5, 0.5, 0.99, 0.99, 0.99, 0.5, 0.01, 0.3, 0.19999999999999996, 0.5], \"type\": \"scatter\"}], \"layout\": {\"title\": \"Chance to Act by Energy Level - 900\"}}, {\"data\": [{\"y\": [0.5, 0.5, 0.5, 0.5, 0.8999999999999999, 0.99, 0.5, 0.01, 0.01, 0.19999999999999996, 0.5], \"type\": \"scatter\"}, {\"y\": [0.5, 0.5, 0.5, 0.99, 0.99, 0.99, 0.5, 0.01, 0.3, 0.19999999999999996, 0.5], \"type\": \"scatter\"}], \"layout\": {\"title\": \"Chance to Act by Energy Level - 1000\"}}, {\"data\": [{\"y\": [0.5, 0.5, 0.5, 0.5, 0.8999999999999999, 0.99, 0.5, 0.01, 0.01, 0.19999999999999996, 0.5], \"type\": \"scatter\"}, {\"y\": [0.5, 0.5, 0.5, 0.99, 0.99, 0.99, 0.5, 0.01, 0.3, 0.19999999999999996, 0.5], \"type\": \"scatter\"}], \"layout\": {\"title\": \"Chance to Act by Energy Level - 1100\"}}, {\"data\": [{\"y\": [0.5, 0.5, 0.5, 0.5, 0.8999999999999999, 0.99, 0.5, 0.01, 0.01, 0.19999999999999996, 0.5], \"type\": \"scatter\"}, {\"y\": [0.5, 0.5, 0.5, 0.99, 0.99, 0.99, 0.5, 0.01, 0.3, 0.19999999999999996, 0.5], \"type\": \"scatter\"}], \"layout\": {\"title\": \"Chance to Act by Energy Level - 1200\"}}, {\"data\": [{\"y\": [0.5, 0.5, 0.5, 0.5, 0.8999999999999999, 0.99, 0.5, 0.01, 0.01, 0.19999999999999996, 0.5], \"type\": \"scatter\"}, {\"y\": [0.5, 0.5, 0.5, 0.99, 0.99, 0.99, 0.5, 0.01, 0.3, 0.19999999999999996, 0.5], \"type\": \"scatter\"}], \"layout\": {\"title\": \"Chance to Act by Energy Level - 1300\"}}, {\"data\": [{\"y\": [0.5, 0.5, 0.5, 0.5, 0.8999999999999999, 0.99, 0.5, 0.01, 0.01, 0.19999999999999996, 0.5], \"type\": \"scatter\"}, {\"y\": [0.5, 0.5, 0.5, 0.99, 0.99, 0.99, 0.5, 0.01, 0.3, 0.19999999999999996, 0.5], \"type\": \"scatter\"}], \"layout\": {\"title\": \"Chance to Act by Energy Level - 1400\"}}, {\"data\": [{\"y\": [0.5, 0.5, 0.5, 0.5, 0.99, 0.99, 0.5, 0.01, 0.01, 0.19999999999999996, 0.5], \"type\": \"scatter\"}, {\"y\": [0.5, 0.5, 0.5, 0.99, 0.99, 0.99, 0.5, 0.01, 0.3, 0.19999999999999996, 0.5], \"type\": \"scatter\"}], \"layout\": {\"title\": \"Chance to Act by Energy Level - 1500\"}}, {\"data\": [{\"y\": [0.5, 0.5, 0.5, 0.5, 0.99, 0.99, 0.5, 0.01, 0.01, 0.19999999999999996, 0.5], \"type\": \"scatter\"}, {\"y\": [0.5, 0.5, 0.5, 0.99, 0.99, 0.99, 0.5, 0.01, 0.3, 0.19999999999999996, 0.5], \"type\": \"scatter\"}], \"layout\": {\"title\": \"Chance to Act by Energy Level - 1600\"}}, {\"data\": [{\"y\": [0.5, 0.5, 0.5, 0.5, 0.99, 0.99, 0.5, 0.01, 0.01, 0.19999999999999996, 0.5], \"type\": \"scatter\"}, {\"y\": [0.5, 0.5, 0.5, 0.99, 0.99, 0.99, 0.5, 0.01, 0.3, 0.19999999999999996, 0.5], \"type\": \"scatter\"}], \"layout\": {\"title\": \"Chance to Act by Energy Level - 1700\"}}, {\"data\": [{\"y\": [0.5, 0.5, 0.5, 0.5, 0.99, 0.99, 0.5, 0.01, 0.01, 0.19999999999999996, 0.5], \"type\": \"scatter\"}, {\"y\": [0.5, 0.5, 0.5, 0.99, 0.99, 0.99, 0.5, 0.01, 0.3, 0.19999999999999996, 0.5], \"type\": \"scatter\"}], \"layout\": {\"title\": \"Chance to Act by Energy Level - 1800\"}}, {\"data\": [{\"y\": [0.5, 0.5, 0.5, 0.5, 0.99, 0.99, 0.5, 0.01, 0.01, 0.19999999999999996, 0.5], \"type\": \"scatter\"}, {\"y\": [0.5, 0.5, 0.5, 0.99, 0.99, 0.99, 0.5, 0.01, 0.3, 0.19999999999999996, 0.5], \"type\": \"scatter\"}], \"layout\": {\"title\": \"Chance to Act by Energy Level - 1900\"}}, {\"data\": [{\"y\": [0.5, 0.5, 0.5, 0.5, 0.99, 0.99, 0.5, 0.01, 0.01, 0.19999999999999996, 0.5], \"type\": \"scatter\"}, {\"y\": [0.5, 0.5, 0.5, 0.99, 0.99, 0.99, 0.5, 0.01, 0.3, 0.19999999999999996, 0.5], \"type\": \"scatter\"}], \"layout\": {\"title\": \"Chance to Act by Energy Level - 2000\"}}, {\"data\": [{\"y\": [0.5, 0.5, 0.5, 0.5, 0.99, 0.99, 0.5, 0.01, 0.01, 0.19999999999999996, 0.5], \"type\": \"scatter\"}, {\"y\": [0.5, 0.5, 0.5, 0.99, 0.99, 0.99, 0.5, 0.01, 0.3, 0.19999999999999996, 0.5], \"type\": \"scatter\"}], \"layout\": {\"title\": \"Chance to Act by Energy Level - 2100\"}}, {\"data\": [{\"y\": [0.5, 0.5, 0.5, 0.5, 0.99, 0.99, 0.5, 0.01, 0.01, 0.19999999999999996, 0.5], \"type\": \"scatter\"}, {\"y\": [0.5, 0.5, 0.5, 0.99, 0.99, 0.99, 0.5, 0.01, 0.3, 0.19999999999999996, 0.5], \"type\": \"scatter\"}], \"layout\": {\"title\": \"Chance to Act by Energy Level - 2200\"}}, {\"data\": [{\"y\": [0.5, 0.5, 0.5, 0.5, 0.99, 0.99, 0.5, 0.01, 0.01, 0.19999999999999996, 0.5], \"type\": \"scatter\"}, {\"y\": [0.5, 0.5, 0.5, 0.99, 0.99, 0.99, 0.5, 0.01, 0.3, 0.19999999999999996, 0.5], \"type\": \"scatter\"}], \"layout\": {\"title\": \"Chance to Act by Energy Level - 2300\"}}, {\"data\": [{\"y\": [0.5, 0.5, 0.5, 0.5, 0.99, 0.99, 0.5, 0.01, 0.01, 0.19999999999999996, 0.5], \"type\": \"scatter\"}, {\"y\": [0.5, 0.5, 0.5, 0.99, 0.99, 0.99, 0.5, 0.01, 0.3, 0.19999999999999996, 0.5], \"type\": \"scatter\"}], \"layout\": {\"title\": \"Chance to Act by Energy Level - 2400\"}}, {\"data\": [{\"y\": [0.5, 0.5, 0.5, 0.5, 0.99, 0.99, 0.5, 0.01, 0.01, 0.19999999999999996, 0.5], \"type\": \"scatter\"}, {\"y\": [0.5, 0.5, 0.5, 0.99, 0.99, 0.99, 0.5, 0.01, 0.3, 0.19999999999999996, 0.5], \"type\": \"scatter\"}], \"layout\": {\"title\": \"Chance to Act by Energy Level - 2500\"}}, {\"data\": [{\"y\": [0.5, 0.5, 0.5, 0.5, 0.99, 0.99, 0.5, 0.01, 0.01, 0.19999999999999996, 0.5], \"type\": \"scatter\"}, {\"y\": [0.5, 0.5, 0.5, 0.99, 0.99, 0.99, 0.5, 0.01, 0.3, 0.19999999999999996, 0.5], \"type\": \"scatter\"}], \"layout\": {\"title\": \"Chance to Act by Energy Level - 2600\"}}, {\"data\": [{\"y\": [0.5, 0.5, 0.5, 0.5, 0.99, 0.99, 0.5, 0.01, 0.01, 0.19999999999999996, 0.5], \"type\": \"scatter\"}, {\"y\": [0.5, 0.5, 0.5, 0.99, 0.99, 0.99, 0.5, 0.01, 0.3, 0.19999999999999996, 0.5], \"type\": \"scatter\"}], \"layout\": {\"title\": \"Chance to Act by Energy Level - 2700\"}}, {\"data\": [{\"y\": [0.5, 0.5, 0.5, 0.5, 0.99, 0.99, 0.5, 0.01, 0.01, 0.19999999999999996, 0.5], \"type\": \"scatter\"}, {\"y\": [0.5, 0.5, 0.5, 0.99, 0.99, 0.99, 0.5, 0.01, 0.3, 0.19999999999999996, 0.5], \"type\": \"scatter\"}], \"layout\": {\"title\": \"Chance to Act by Energy Level - 2800\"}}, {\"data\": [{\"y\": [0.5, 0.5, 0.5, 0.5, 0.99, 0.99, 0.5, 0.01, 0.01, 0.19999999999999996, 0.5], \"type\": \"scatter\"}, {\"y\": [0.5, 0.5, 0.5, 0.99, 0.99, 0.99, 0.5, 0.01, 0.3, 0.19999999999999996, 0.5], \"type\": \"scatter\"}], \"layout\": {\"title\": \"Chance to Act by Energy Level - 2900\"}}, {\"data\": [{\"y\": [0.5, 0.5, 0.5, 0.5, 0.99, 0.99, 0.5, 0.01, 0.01, 0.19999999999999996, 0.5], \"type\": \"scatter\"}, {\"y\": [0.5, 0.5, 0.5, 0.99, 0.99, 0.99, 0.5, 0.01, 0.3, 0.19999999999999996, 0.5], \"type\": \"scatter\"}], \"layout\": {\"title\": \"Chance to Act by Energy Level - 3000\"}}, {\"data\": [{\"y\": [0.5, 0.5, 0.5, 0.5, 0.99, 0.99, 0.5, 0.01, 0.01, 0.19999999999999996, 0.5], \"type\": \"scatter\"}, {\"y\": [0.5, 0.5, 0.5, 0.99, 0.99, 0.99, 0.5, 0.01, 0.3, 0.19999999999999996, 0.5], \"type\": \"scatter\"}], \"layout\": {\"title\": \"Chance to Act by Energy Level - 3100\"}}, {\"data\": [{\"y\": [0.5, 0.5, 0.5, 0.5, 0.99, 0.99, 0.5, 0.01, 0.01, 0.19999999999999996, 0.5], \"type\": \"scatter\"}, {\"y\": [0.5, 0.5, 0.5, 0.99, 0.99, 0.99, 0.5, 0.01, 0.3, 0.19999999999999996, 0.5], \"type\": \"scatter\"}], \"layout\": {\"title\": \"Chance to Act by Energy Level - 3200\"}}, {\"data\": [{\"y\": [0.5, 0.5, 0.5, 0.5, 0.99, 0.99, 0.5, 0.01, 0.01, 0.19999999999999996, 0.5], \"type\": \"scatter\"}, {\"y\": [0.5, 0.5, 0.5, 0.99, 0.99, 0.99, 0.5, 0.01, 0.3, 0.19999999999999996, 0.5], \"type\": \"scatter\"}], \"layout\": {\"title\": \"Chance to Act by Energy Level - 3300\"}}, {\"data\": [{\"y\": [0.5, 0.5, 0.5, 0.5, 0.99, 0.99, 0.5, 0.01, 0.01, 0.19999999999999996, 0.5], \"type\": \"scatter\"}, {\"y\": [0.5, 0.5, 0.5, 0.99, 0.99, 0.99, 0.5, 0.01, 0.3, 0.19999999999999996, 0.5], \"type\": \"scatter\"}], \"layout\": {\"title\": \"Chance to Act by Energy Level - 3400\"}}, {\"data\": [{\"y\": [0.5, 0.5, 0.5, 0.5, 0.99, 0.99, 0.5, 0.01, 0.01, 0.19999999999999996, 0.5], \"type\": \"scatter\"}, {\"y\": [0.5, 0.5, 0.5, 0.99, 0.99, 0.99, 0.5, 0.01, 0.3, 0.19999999999999996, 0.5], \"type\": \"scatter\"}], \"layout\": {\"title\": \"Chance to Act by Energy Level - 3500\"}}, {\"data\": [{\"y\": [0.5, 0.5, 0.5, 0.5, 0.99, 0.99, 0.5, 0.01, 0.01, 0.19999999999999996, 0.5], \"type\": \"scatter\"}, {\"y\": [0.5, 0.5, 0.5, 0.99, 0.99, 0.99, 0.5, 0.01, 0.09999999999999998, 0.19999999999999996, 0.5], \"type\": \"scatter\"}], \"layout\": {\"title\": \"Chance to Act by Energy Level - 3600\"}}, {\"data\": [{\"y\": [0.5, 0.5, 0.5, 0.5, 0.99, 0.99, 0.5, 0.01, 0.01, 0.19999999999999996, 0.5], \"type\": \"scatter\"}, {\"y\": [0.5, 0.5, 0.5, 0.99, 0.99, 0.99, 0.5, 0.01, 0.09999999999999998, 0.19999999999999996, 0.5], \"type\": \"scatter\"}], \"layout\": {\"title\": \"Chance to Act by Energy Level - 3700\"}}, {\"data\": [{\"y\": [0.5, 0.5, 0.5, 0.5, 0.99, 0.99, 0.5, 0.01, 0.01, 0.19999999999999996, 0.5], \"type\": \"scatter\"}, {\"y\": [0.5, 0.5, 0.5, 0.99, 0.99, 0.99, 0.5, 0.01, 0.09999999999999998, 0.19999999999999996, 0.5], \"type\": \"scatter\"}], \"layout\": {\"title\": \"Chance to Act by Energy Level - 3800\"}}, {\"data\": [{\"y\": [0.5, 0.5, 0.5, 0.5, 0.99, 0.99, 0.5, 0.01, 0.01, 0.19999999999999996, 0.5], \"type\": \"scatter\"}, {\"y\": [0.5, 0.5, 0.5, 0.99, 0.99, 0.99, 0.5, 0.01, 0.09999999999999998, 0.19999999999999996, 0.5], \"type\": \"scatter\"}], \"layout\": {\"title\": \"Chance to Act by Energy Level - 3900\"}}, {\"data\": [{\"y\": [0.5, 0.5, 0.5, 0.5, 0.99, 0.99, 0.5, 0.01, 0.01, 0.19999999999999996, 0.5], \"type\": \"scatter\"}, {\"y\": [0.5, 0.5, 0.5, 0.99, 0.99, 0.99, 0.5, 0.01, 0.09999999999999998, 0.19999999999999996, 0.5], \"type\": \"scatter\"}], \"layout\": {\"title\": \"Chance to Act by Energy Level - 4000\"}}, {\"data\": [{\"y\": [0.5, 0.5, 0.5, 0.5, 0.99, 0.99, 0.5, 0.01, 0.01, 0.19999999999999996, 0.5], \"type\": \"scatter\"}, {\"y\": [0.5, 0.5, 0.5, 0.99, 0.99, 0.99, 0.5, 0.01, 0.09999999999999998, 0.19999999999999996, 0.5], \"type\": \"scatter\"}], \"layout\": {\"title\": \"Chance to Act by Energy Level - 4100\"}}, {\"data\": [{\"y\": [0.5, 0.5, 0.5, 0.5, 0.99, 0.99, 0.5, 0.01, 0.01, 0.19999999999999996, 0.5], \"type\": \"scatter\"}, {\"y\": [0.5, 0.5, 0.5, 0.99, 0.99, 0.99, 0.5, 0.01, 0.09999999999999998, 0.19999999999999996, 0.5], \"type\": \"scatter\"}], \"layout\": {\"title\": \"Chance to Act by Energy Level - 4200\"}}, {\"data\": [{\"y\": [0.5, 0.5, 0.5, 0.5, 0.99, 0.99, 0.5, 0.01, 0.01, 0.19999999999999996, 0.5], \"type\": \"scatter\"}, {\"y\": [0.5, 0.5, 0.5, 0.99, 0.99, 0.99, 0.5, 0.01, 0.09999999999999998, 0.19999999999999996, 0.5], \"type\": \"scatter\"}], \"layout\": {\"title\": \"Chance to Act by Energy Level - 4300\"}}, {\"data\": [{\"y\": [0.5, 0.5, 0.5, 0.5, 0.99, 0.99, 0.5, 0.01, 0.01, 0.19999999999999996, 0.5], \"type\": \"scatter\"}, {\"y\": [0.5, 0.5, 0.5, 0.99, 0.99, 0.99, 0.5, 0.01, 0.09999999999999998, 0.19999999999999996, 0.5], \"type\": \"scatter\"}], \"layout\": {\"title\": \"Chance to Act by Energy Level - 4400\"}}, {\"data\": [{\"y\": [0.5, 0.5, 0.5, 0.5, 0.99, 0.99, 0.5, 0.01, 0.01, 0.19999999999999996, 0.5], \"type\": \"scatter\"}, {\"y\": [0.5, 0.5, 0.5, 0.99, 0.99, 0.99, 0.5, 0.01, 0.09999999999999998, 0.19999999999999996, 0.5], \"type\": \"scatter\"}], \"layout\": {\"title\": \"Chance to Act by Energy Level - 4500\"}}, {\"data\": [{\"y\": [0.5, 0.5, 0.5, 0.5, 0.99, 0.99, 0.5, 0.01, 0.01, 0.19999999999999996, 0.5], \"type\": \"scatter\"}, {\"y\": [0.5, 0.5, 0.5, 0.99, 0.99, 0.99, 0.5, 0.01, 0.09999999999999998, 0.19999999999999996, 0.5], \"type\": \"scatter\"}], \"layout\": {\"title\": \"Chance to Act by Energy Level - 4600\"}}, {\"data\": [{\"y\": [0.5, 0.5, 0.5, 0.5, 0.99, 0.99, 0.5, 0.01, 0.01, 0.19999999999999996, 0.5], \"type\": \"scatter\"}, {\"y\": [0.5, 0.5, 0.5, 0.99, 0.99, 0.99, 0.5, 0.01, 0.09999999999999998, 0.19999999999999996, 0.5], \"type\": \"scatter\"}], \"layout\": {\"title\": \"Chance to Act by Energy Level - 4700\"}}, {\"data\": [{\"y\": [0.5, 0.5, 0.5, 0.5, 0.99, 0.99, 0.5, 0.01, 0.01, 0.19999999999999996, 0.5], \"type\": \"scatter\"}, {\"y\": [0.5, 0.5, 0.5, 0.99, 0.99, 0.99, 0.5, 0.01, 0.09999999999999998, 0.19999999999999996, 0.5], \"type\": \"scatter\"}], \"layout\": {\"title\": \"Chance to Act by Energy Level - 4800\"}}, {\"data\": [{\"y\": [0.5, 0.5, 0.5, 0.5, 0.99, 0.99, 0.5, 0.01, 0.01, 0.19999999999999996, 0.5], \"type\": \"scatter\"}, {\"y\": [0.5, 0.5, 0.5, 0.99, 0.99, 0.99, 0.5, 0.01, 0.09999999999999998, 0.19999999999999996, 0.5], \"type\": \"scatter\"}], \"layout\": {\"title\": \"Chance to Act by Energy Level - 4900\"}}, {\"data\": [{\"y\": [0.5, 0.5, 0.5, 0.5, 0.99, 0.99, 0.5, 0.01, 0.01, 0.19999999999999996, 0.5], \"type\": \"scatter\"}, {\"y\": [0.5, 0.5, 0.5, 0.99, 0.99, 0.99, 0.5, 0.01, 0.09999999999999998, 0.19999999999999996, 0.5], \"type\": \"scatter\"}], \"layout\": {\"title\": \"Chance to Act by Energy Level - 5000\"}}, {\"data\": [{\"y\": [0.5, 0.5, 0.5, 0.5, 0.99, 0.99, 0.5, 0.01, 0.01, 0.19999999999999996, 0.5], \"type\": \"scatter\"}, {\"y\": [0.5, 0.5, 0.5, 0.99, 0.99, 0.99, 0.5, 0.01, 0.09999999999999998, 0.19999999999999996, 0.5], \"type\": \"scatter\"}], \"layout\": {\"title\": \"Chance to Act by Energy Level - 5100\"}}, {\"data\": [{\"y\": [0.5, 0.5, 0.5, 0.5, 0.99, 0.99, 0.5, 0.01, 0.01, 0.19999999999999996, 0.5], \"type\": \"scatter\"}, {\"y\": [0.5, 0.5, 0.5, 0.99, 0.99, 0.99, 0.5, 0.01, 0.09999999999999998, 0.19999999999999996, 0.5], \"type\": \"scatter\"}], \"layout\": {\"title\": \"Chance to Act by Energy Level - 5200\"}}, {\"data\": [{\"y\": [0.5, 0.5, 0.5, 0.5, 0.99, 0.99, 0.5, 0.01, 0.01, 0.19999999999999996, 0.5], \"type\": \"scatter\"}, {\"y\": [0.5, 0.5, 0.5, 0.99, 0.99, 0.99, 0.5, 0.01, 0.09999999999999998, 0.19999999999999996, 0.5], \"type\": \"scatter\"}], \"layout\": {\"title\": \"Chance to Act by Energy Level - 5300\"}}, {\"data\": [{\"y\": [0.5, 0.5, 0.5, 0.5, 0.99, 0.99, 0.5, 0.01, 0.01, 0.19999999999999996, 0.5], \"type\": \"scatter\"}, {\"y\": [0.5, 0.5, 0.5, 0.99, 0.99, 0.99, 0.5, 0.01, 0.09999999999999998, 0.19999999999999996, 0.5], \"type\": \"scatter\"}], \"layout\": {\"title\": \"Chance to Act by Energy Level - 5400\"}}, {\"data\": [{\"y\": [0.5, 0.5, 0.5, 0.5, 0.99, 0.99, 0.5, 0.01, 0.01, 0.19999999999999996, 0.5], \"type\": \"scatter\"}, {\"y\": [0.5, 0.5, 0.5, 0.99, 0.99, 0.99, 0.5, 0.01, 0.09999999999999998, 0.19999999999999996, 0.5], \"type\": \"scatter\"}], \"layout\": {\"title\": \"Chance to Act by Energy Level - 5500\"}}, {\"data\": [{\"y\": [0.5, 0.5, 0.5, 0.5, 0.99, 0.99, 0.5, 0.01, 0.01, 0.19999999999999996, 0.5], \"type\": \"scatter\"}, {\"y\": [0.5, 0.5, 0.5, 0.99, 0.99, 0.99, 0.5, 0.01, 0.09999999999999998, 0.19999999999999996, 0.5], \"type\": \"scatter\"}], \"layout\": {\"title\": \"Chance to Act by Energy Level - 5600\"}}, {\"data\": [{\"y\": [0.5, 0.5, 0.5, 0.5, 0.99, 0.99, 0.5, 0.01, 0.01, 0.19999999999999996, 0.5], \"type\": \"scatter\"}, {\"y\": [0.5, 0.5, 0.5, 0.99, 0.99, 0.99, 0.5, 0.01, 0.09999999999999998, 0.19999999999999996, 0.5], \"type\": \"scatter\"}], \"layout\": {\"title\": \"Chance to Act by Energy Level - 5700\"}}, {\"data\": [{\"y\": [0.5, 0.5, 0.5, 0.5, 0.99, 0.99, 0.5, 0.01, 0.01, 0.19999999999999996, 0.5], \"type\": \"scatter\"}, {\"y\": [0.5, 0.5, 0.5, 0.99, 0.99, 0.99, 0.5, 0.01, 0.09999999999999998, 0.19999999999999996, 0.5], \"type\": \"scatter\"}], \"layout\": {\"title\": \"Chance to Act by Energy Level - 5800\"}}, {\"data\": [{\"y\": [0.5, 0.5, 0.5, 0.5, 0.99, 0.99, 0.5, 0.01, 0.01, 0.19999999999999996, 0.5], \"type\": \"scatter\"}, {\"y\": [0.5, 0.5, 0.5, 0.99, 0.99, 0.99, 0.5, 0.01, 0.09999999999999998, 0.19999999999999996, 0.5], \"type\": \"scatter\"}], \"layout\": {\"title\": \"Chance to Act by Energy Level - 5900\"}}, {\"data\": [{\"y\": [0.5, 0.5, 0.5, 0.5, 0.99, 0.99, 0.5, 0.01, 0.01, 0.19999999999999996, 0.5], \"type\": \"scatter\"}, {\"y\": [0.5, 0.5, 0.5, 0.99, 0.99, 0.99, 0.5, 0.01, 0.09999999999999998, 0.19999999999999996, 0.5], \"type\": \"scatter\"}], \"layout\": {\"title\": \"Chance to Act by Energy Level - 6000\"}}, {\"data\": [{\"y\": [0.5, 0.5, 0.5, 0.5, 0.99, 0.99, 0.5, 0.01, 0.01, 0.19999999999999996, 0.5], \"type\": \"scatter\"}, {\"y\": [0.5, 0.5, 0.5, 0.99, 0.99, 0.99, 0.5, 0.01, 0.09999999999999998, 0.19999999999999996, 0.5], \"type\": \"scatter\"}], \"layout\": {\"title\": \"Chance to Act by Energy Level - 6100\"}}, {\"data\": [{\"y\": [0.5, 0.5, 0.5, 0.5, 0.99, 0.99, 0.5, 0.01, 0.01, 0.19999999999999996, 0.5], \"type\": \"scatter\"}, {\"y\": [0.5, 0.5, 0.5, 0.99, 0.99, 0.99, 0.5, 0.01, 0.09999999999999998, 0.19999999999999996, 0.5], \"type\": \"scatter\"}], \"layout\": {\"title\": \"Chance to Act by Energy Level - 6200\"}}, {\"data\": [{\"y\": [0.5, 0.5, 0.5, 0.5, 0.99, 0.99, 0.5, 0.01, 0.01, 0.19999999999999996, 0.5], \"type\": \"scatter\"}, {\"y\": [0.5, 0.5, 0.5, 0.99, 0.99, 0.99, 0.5, 0.01, 0.09999999999999998, 0.19999999999999996, 0.5], \"type\": \"scatter\"}], \"layout\": {\"title\": \"Chance to Act by Energy Level - 6300\"}}, {\"data\": [{\"y\": [0.5, 0.5, 0.5, 0.5, 0.99, 0.99, 0.5, 0.01, 0.01, 0.19999999999999996, 0.5], \"type\": \"scatter\"}, {\"y\": [0.5, 0.5, 0.5, 0.99, 0.99, 0.99, 0.5, 0.01, 0.09999999999999998, 0.19999999999999996, 0.5], \"type\": \"scatter\"}], \"layout\": {\"title\": \"Chance to Act by Energy Level - 6400\"}}, {\"data\": [{\"y\": [0.5, 0.5, 0.5, 0.5, 0.99, 0.99, 0.5, 0.01, 0.01, 0.19999999999999996, 0.5], \"type\": \"scatter\"}, {\"y\": [0.5, 0.5, 0.5, 0.99, 0.99, 0.99, 0.5, 0.01, 0.09999999999999998, 0.19999999999999996, 0.5], \"type\": \"scatter\"}], \"layout\": {\"title\": \"Chance to Act by Energy Level - 6500\"}}, {\"data\": [{\"y\": [0.5, 0.5, 0.5, 0.5, 0.99, 0.99, 0.5, 0.01, 0.01, 0.19999999999999996, 0.5], \"type\": \"scatter\"}, {\"y\": [0.5, 0.5, 0.5, 0.99, 0.99, 0.99, 0.5, 0.01, 0.09999999999999998, 0.19999999999999996, 0.5], \"type\": \"scatter\"}], \"layout\": {\"title\": \"Chance to Act by Energy Level - 6600\"}}, {\"data\": [{\"y\": [0.5, 0.5, 0.5, 0.5, 0.99, 0.99, 0.5, 0.01, 0.01, 0.19999999999999996, 0.5], \"type\": \"scatter\"}, {\"y\": [0.5, 0.5, 0.5, 0.99, 0.99, 0.99, 0.5, 0.01, 0.09999999999999998, 0.19999999999999996, 0.5], \"type\": \"scatter\"}], \"layout\": {\"title\": \"Chance to Act by Energy Level - 6700\"}}, {\"data\": [{\"y\": [0.5, 0.5, 0.5, 0.5, 0.99, 0.99, 0.5, 0.01, 0.01, 0.19999999999999996, 0.5], \"type\": \"scatter\"}, {\"y\": [0.5, 0.5, 0.5, 0.99, 0.99, 0.99, 0.5, 0.01, 0.09999999999999998, 0.19999999999999996, 0.5], \"type\": \"scatter\"}], \"layout\": {\"title\": \"Chance to Act by Energy Level - 6800\"}}, {\"data\": [{\"y\": [0.5, 0.5, 0.5, 0.5, 0.99, 0.99, 0.5, 0.01, 0.01, 0.19999999999999996, 0.5], \"type\": \"scatter\"}, {\"y\": [0.5, 0.5, 0.5, 0.99, 0.99, 0.99, 0.5, 0.01, 0.09999999999999998, 0.19999999999999996, 0.5], \"type\": \"scatter\"}], \"layout\": {\"title\": \"Chance to Act by Energy Level - 6900\"}}, {\"data\": [{\"y\": [0.5, 0.5, 0.5, 0.5, 0.99, 0.99, 0.5, 0.01, 0.01, 0.19999999999999996, 0.5], \"type\": \"scatter\"}, {\"y\": [0.5, 0.5, 0.5, 0.99, 0.99, 0.99, 0.5, 0.01, 0.09999999999999998, 0.19999999999999996, 0.5], \"type\": \"scatter\"}], \"layout\": {\"title\": \"Chance to Act by Energy Level - 7000\"}}, {\"data\": [{\"y\": [0.5, 0.5, 0.5, 0.5, 0.99, 0.99, 0.5, 0.01, 0.01, 0.19999999999999996, 0.5], \"type\": \"scatter\"}, {\"y\": [0.5, 0.5, 0.5, 0.99, 0.99, 0.99, 0.5, 0.01, 0.09999999999999998, 0.19999999999999996, 0.5], \"type\": \"scatter\"}], \"layout\": {\"title\": \"Chance to Act by Energy Level - 7100\"}}, {\"data\": [{\"y\": [0.5, 0.5, 0.5, 0.5, 0.99, 0.99, 0.5, 0.01, 0.01, 0.19999999999999996, 0.5], \"type\": \"scatter\"}, {\"y\": [0.5, 0.5, 0.5, 0.99, 0.99, 0.99, 0.5, 0.01, 0.09999999999999998, 0.19999999999999996, 0.5], \"type\": \"scatter\"}], \"layout\": {\"title\": \"Chance to Act by Energy Level - 7200\"}}, {\"data\": [{\"y\": [0.5, 0.5, 0.5, 0.5, 0.99, 0.99, 0.5, 0.01, 0.01, 0.19999999999999996, 0.5], \"type\": \"scatter\"}, {\"y\": [0.5, 0.5, 0.5, 0.99, 0.99, 0.99, 0.5, 0.01, 0.09999999999999998, 0.19999999999999996, 0.5], \"type\": \"scatter\"}], \"layout\": {\"title\": \"Chance to Act by Energy Level - 7300\"}}, {\"data\": [{\"y\": [0.5, 0.5, 0.5, 0.5, 0.99, 0.99, 0.5, 0.01, 0.01, 0.19999999999999996, 0.5], \"type\": \"scatter\"}, {\"y\": [0.5, 0.5, 0.5, 0.99, 0.99, 0.99, 0.5, 0.01, 0.09999999999999998, 0.19999999999999996, 0.5], \"type\": \"scatter\"}], \"layout\": {\"title\": \"Chance to Act by Energy Level - 7400\"}}, {\"data\": [{\"y\": [0.5, 0.5, 0.5, 0.5, 0.99, 0.99, 0.5, 0.01, 0.01, 0.19999999999999996, 0.5], \"type\": \"scatter\"}, {\"y\": [0.5, 0.5, 0.5, 0.99, 0.99, 0.99, 0.5, 0.01, 0.09999999999999998, 0.19999999999999996, 0.5], \"type\": \"scatter\"}], \"layout\": {\"title\": \"Chance to Act by Energy Level - 7500\"}}, {\"data\": [{\"y\": [0.5, 0.5, 0.5, 0.5, 0.99, 0.99, 0.5, 0.01, 0.01, 0.19999999999999996, 0.5], \"type\": \"scatter\"}, {\"y\": [0.5, 0.5, 0.5, 0.99, 0.99, 0.99, 0.5, 0.01, 0.09999999999999998, 0.19999999999999996, 0.5], \"type\": \"scatter\"}], \"layout\": {\"title\": \"Chance to Act by Energy Level - 7600\"}}, {\"data\": [{\"y\": [0.5, 0.5, 0.5, 0.5, 0.99, 0.99, 0.5, 0.01, 0.01, 0.19999999999999996, 0.5], \"type\": \"scatter\"}, {\"y\": [0.5, 0.5, 0.5, 0.99, 0.99, 0.99, 0.5, 0.01, 0.09999999999999998, 0.19999999999999996, 0.5], \"type\": \"scatter\"}], \"layout\": {\"title\": \"Chance to Act by Energy Level - 7700\"}}, {\"data\": [{\"y\": [0.5, 0.5, 0.5, 0.5, 0.99, 0.99, 0.5, 0.01, 0.01, 0.19999999999999996, 0.5], \"type\": \"scatter\"}, {\"y\": [0.5, 0.5, 0.5, 0.99, 0.99, 0.99, 0.5, 0.01, 0.09999999999999998, 0.19999999999999996, 0.5], \"type\": \"scatter\"}], \"layout\": {\"title\": \"Chance to Act by Energy Level - 7800\"}}, {\"data\": [{\"y\": [0.5, 0.5, 0.5, 0.5, 0.99, 0.99, 0.5, 0.01, 0.01, 0.19999999999999996, 0.5], \"type\": \"scatter\"}, {\"y\": [0.5, 0.5, 0.5, 0.99, 0.99, 0.99, 0.5, 0.01, 0.09999999999999998, 0.19999999999999996, 0.5], \"type\": \"scatter\"}], \"layout\": {\"title\": \"Chance to Act by Energy Level - 7900\"}}, {\"data\": [{\"y\": [0.5, 0.5, 0.5, 0.5, 0.99, 0.99, 0.5, 0.01, 0.01, 0.19999999999999996, 0.5], \"type\": \"scatter\"}, {\"y\": [0.5, 0.5, 0.5, 0.99, 0.99, 0.99, 0.5, 0.01, 0.09999999999999998, 0.19999999999999996, 0.5], \"type\": \"scatter\"}], \"layout\": {\"title\": \"Chance to Act by Energy Level - 8000\"}}, {\"data\": [{\"y\": [0.5, 0.5, 0.5, 0.5, 0.99, 0.99, 0.5, 0.01, 0.01, 0.19999999999999996, 0.5], \"type\": \"scatter\"}, {\"y\": [0.5, 0.5, 0.5, 0.99, 0.99, 0.99, 0.5, 0.01, 0.09999999999999998, 0.19999999999999996, 0.5], \"type\": \"scatter\"}], \"layout\": {\"title\": \"Chance to Act by Energy Level - 8100\"}}, {\"data\": [{\"y\": [0.5, 0.5, 0.5, 0.5, 0.99, 0.99, 0.5, 0.01, 0.01, 0.19999999999999996, 0.5], \"type\": \"scatter\"}, {\"y\": [0.5, 0.5, 0.5, 0.99, 0.99, 0.99, 0.5, 0.01, 0.09999999999999998, 0.19999999999999996, 0.5], \"type\": \"scatter\"}], \"layout\": {\"title\": \"Chance to Act by Energy Level - 8200\"}}, {\"data\": [{\"y\": [0.5, 0.5, 0.5, 0.5, 0.99, 0.99, 0.5, 0.01, 0.01, 0.19999999999999996, 0.5], \"type\": \"scatter\"}, {\"y\": [0.5, 0.5, 0.5, 0.99, 0.99, 0.99, 0.5, 0.01, 0.09999999999999998, 0.19999999999999996, 0.5], \"type\": \"scatter\"}], \"layout\": {\"title\": \"Chance to Act by Energy Level - 8300\"}}, {\"data\": [{\"y\": [0.5, 0.5, 0.5, 0.5, 0.99, 0.99, 0.5, 0.01, 0.01, 0.19999999999999996, 0.5], \"type\": \"scatter\"}, {\"y\": [0.5, 0.5, 0.5, 0.99, 0.99, 0.99, 0.5, 0.01, 0.09999999999999998, 0.19999999999999996, 0.5], \"type\": \"scatter\"}], \"layout\": {\"title\": \"Chance to Act by Energy Level - 8400\"}}, {\"data\": [{\"y\": [0.5, 0.5, 0.5, 0.5, 0.99, 0.99, 0.5, 0.01, 0.01, 0.19999999999999996, 0.5], \"type\": \"scatter\"}, {\"y\": [0.5, 0.5, 0.5, 0.99, 0.99, 0.99, 0.5, 0.01, 0.09999999999999998, 0.19999999999999996, 0.5], \"type\": \"scatter\"}], \"layout\": {\"title\": \"Chance to Act by Energy Level - 8500\"}}, {\"data\": [{\"y\": [0.5, 0.5, 0.5, 0.5, 0.99, 0.99, 0.5, 0.01, 0.01, 0.19999999999999996, 0.5], \"type\": \"scatter\"}, {\"y\": [0.5, 0.5, 0.5, 0.99, 0.99, 0.99, 0.5, 0.01, 0.09999999999999998, 0.19999999999999996, 0.5], \"type\": \"scatter\"}], \"layout\": {\"title\": \"Chance to Act by Energy Level - 8600\"}}, {\"data\": [{\"y\": [0.5, 0.5, 0.5, 0.5, 0.99, 0.99, 0.5, 0.01, 0.01, 0.19999999999999996, 0.5], \"type\": \"scatter\"}, {\"y\": [0.5, 0.5, 0.5, 0.99, 0.99, 0.99, 0.5, 0.01, 0.09999999999999998, 0.19999999999999996, 0.5], \"type\": \"scatter\"}], \"layout\": {\"title\": \"Chance to Act by Energy Level - 8700\"}}, {\"data\": [{\"y\": [0.5, 0.5, 0.5, 0.5, 0.99, 0.99, 0.5, 0.01, 0.01, 0.19999999999999996, 0.5], \"type\": \"scatter\"}, {\"y\": [0.5, 0.5, 0.5, 0.99, 0.99, 0.99, 0.5, 0.01, 0.09999999999999998, 0.19999999999999996, 0.5], \"type\": \"scatter\"}], \"layout\": {\"title\": \"Chance to Act by Energy Level - 8800\"}}, {\"data\": [{\"y\": [0.5, 0.5, 0.5, 0.5, 0.99, 0.99, 0.5, 0.01, 0.01, 0.19999999999999996, 0.5], \"type\": \"scatter\"}, {\"y\": [0.5, 0.5, 0.5, 0.99, 0.99, 0.99, 0.5, 0.01, 0.09999999999999998, 0.19999999999999996, 0.5], \"type\": \"scatter\"}], \"layout\": {\"title\": \"Chance to Act by Energy Level - 8900\"}}, {\"data\": [{\"y\": [0.5, 0.5, 0.5, 0.5, 0.99, 0.99, 0.5, 0.01, 0.01, 0.19999999999999996, 0.5], \"type\": \"scatter\"}, {\"y\": [0.5, 0.5, 0.5, 0.99, 0.99, 0.99, 0.5, 0.01, 0.09999999999999998, 0.19999999999999996, 0.5], \"type\": \"scatter\"}], \"layout\": {\"title\": \"Chance to Act by Energy Level - 9000\"}}, {\"data\": [{\"y\": [0.5, 0.5, 0.5, 0.5, 0.99, 0.99, 0.5, 0.01, 0.01, 0.19999999999999996, 0.5], \"type\": \"scatter\"}, {\"y\": [0.5, 0.5, 0.5, 0.99, 0.99, 0.99, 0.5, 0.01, 0.09999999999999998, 0.19999999999999996, 0.5], \"type\": \"scatter\"}], \"layout\": {\"title\": \"Chance to Act by Energy Level - 9100\"}}, {\"data\": [{\"y\": [0.5, 0.5, 0.5, 0.5, 0.99, 0.99, 0.5, 0.01, 0.01, 0.19999999999999996, 0.5], \"type\": \"scatter\"}, {\"y\": [0.5, 0.5, 0.5, 0.99, 0.99, 0.99, 0.5, 0.01, 0.09999999999999998, 0.19999999999999996, 0.5], \"type\": \"scatter\"}], \"layout\": {\"title\": \"Chance to Act by Energy Level - 9200\"}}, {\"data\": [{\"y\": [0.5, 0.5, 0.5, 0.5, 0.99, 0.99, 0.5, 0.01, 0.01, 0.19999999999999996, 0.5], \"type\": \"scatter\"}, {\"y\": [0.5, 0.5, 0.5, 0.99, 0.99, 0.99, 0.5, 0.01, 0.09999999999999998, 0.19999999999999996, 0.5], \"type\": \"scatter\"}], \"layout\": {\"title\": \"Chance to Act by Energy Level - 9300\"}}, {\"data\": [{\"y\": [0.5, 0.5, 0.5, 0.5, 0.99, 0.99, 0.5, 0.01, 0.01, 0.19999999999999996, 0.5], \"type\": \"scatter\"}, {\"y\": [0.5, 0.5, 0.5, 0.99, 0.99, 0.99, 0.5, 0.01, 0.09999999999999998, 0.19999999999999996, 0.5], \"type\": \"scatter\"}], \"layout\": {\"title\": \"Chance to Act by Energy Level - 9400\"}}, {\"data\": [{\"y\": [0.5, 0.5, 0.5, 0.5, 0.99, 0.99, 0.5, 0.01, 0.01, 0.19999999999999996, 0.5], \"type\": \"scatter\"}, {\"y\": [0.5, 0.5, 0.5, 0.99, 0.99, 0.99, 0.5, 0.01, 0.09999999999999998, 0.19999999999999996, 0.5], \"type\": \"scatter\"}], \"layout\": {\"title\": \"Chance to Act by Energy Level - 9500\"}}, {\"data\": [{\"y\": [0.5, 0.5, 0.5, 0.5, 0.99, 0.99, 0.5, 0.01, 0.01, 0.19999999999999996, 0.5], \"type\": \"scatter\"}, {\"y\": [0.5, 0.5, 0.5, 0.99, 0.99, 0.99, 0.5, 0.01, 0.09999999999999998, 0.19999999999999996, 0.5], \"type\": \"scatter\"}], \"layout\": {\"title\": \"Chance to Act by Energy Level - 9600\"}}, {\"data\": [{\"y\": [0.5, 0.5, 0.5, 0.5, 0.99, 0.99, 0.5, 0.01, 0.01, 0.19999999999999996, 0.5], \"type\": \"scatter\"}, {\"y\": [0.5, 0.5, 0.5, 0.99, 0.99, 0.99, 0.5, 0.01, 0.09999999999999998, 0.19999999999999996, 0.5], \"type\": \"scatter\"}], \"layout\": {\"title\": \"Chance to Act by Energy Level - 9700\"}}, {\"data\": [{\"y\": [0.5, 0.5, 0.5, 0.5, 0.99, 0.99, 0.5, 0.01, 0.01, 0.19999999999999996, 0.5], \"type\": \"scatter\"}, {\"y\": [0.5, 0.5, 0.5, 0.99, 0.99, 0.99, 0.5, 0.01, 0.09999999999999998, 0.19999999999999996, 0.5], \"type\": \"scatter\"}], \"layout\": {\"title\": \"Chance to Act by Energy Level - 9800\"}}, {\"data\": [{\"y\": [0.5, 0.5, 0.5, 0.5, 0.99, 0.99, 0.5, 0.01, 0.01, 0.19999999999999996, 0.5], \"type\": \"scatter\"}, {\"y\": [0.5, 0.5, 0.5, 0.99, 0.99, 0.99, 0.5, 0.01, 0.09999999999999998, 0.19999999999999996, 0.5], \"type\": \"scatter\"}], \"layout\": {\"title\": \"Chance to Act by Energy Level - 9900\"}}]);}).then(function(){Plotly.animate('7a9a0664-9727-4dd3-b195-869f34493e5d');})\n",
       "        });</script>"
      ],
      "text/vnd.plotly.v1+html": [
       "<div id=\"7a9a0664-9727-4dd3-b195-869f34493e5d\" style=\"height: 525px; width: 100%;\" class=\"plotly-graph-div\"></div><script type=\"text/javascript\">require([\"plotly\"], function(Plotly) { window.PLOTLYENV=window.PLOTLYENV || {};window.PLOTLYENV.BASE_URL=\"https://plot.ly\";\n",
       "        Plotly.plot(\n",
       "            '7a9a0664-9727-4dd3-b195-869f34493e5d',\n",
       "            [{\"name\": \"Cheese\", \"y\": [0.5, 0.5, 0.5, 0.5, 0.5, 0.5, 0.5, 0.5, 0.5, 0.5, 0.5], \"type\": \"scatter\", \"uid\": \"5733af1c-a2aa-11e8-96a9-d8cb8a18bb65\"}, {\"name\": \"No Cheese\", \"y\": [0.5, 0.5, 0.5, 0.5, 0.5, 0.5, 0.5, 0.5, 0.5, 0.5, 0.5], \"type\": \"scatter\", \"uid\": \"5733af1d-a2aa-11e8-8776-d8cb8a18bb65\"}],\n",
       "            {\"title\": \"Chance to Act by Energy Level - 0\", \"updatemenus\": [{\"buttons\": [{\"args\": [null, {\"frame\": {\"duration\": 0, \"redraw\": true}, \"mode\": \"next\", \"transition\": {\"duration\": 0, \"easing\": \"linear\"}}], \"label\": \"Play\", \"method\": \"animate\"}], \"type\": \"buttons\"}], \"yaxis\": {\"autorange\": false, \"range\": [0, 1]}},\n",
       "            {\"showLink\": true, \"linkText\": \"Export to plot.ly\"}\n",
       "        ).then(function () {return Plotly.addFrames('7a9a0664-9727-4dd3-b195-869f34493e5d',[{\"data\": [{\"y\": [0.5, 0.5, 0.5, 0.5, 0.5, 0.5, 0.5, 0.5, 0.5, 0.5, 0.5], \"type\": \"scatter\"}, {\"y\": [0.5, 0.5, 0.5, 0.5, 0.5, 0.5, 0.5, 0.5, 0.5, 0.5, 0.5], \"type\": \"scatter\"}], \"layout\": {\"title\": \"Chance to Act by Energy Level - 0\"}}, {\"data\": [{\"y\": [0.5, 0.5, 0.5, 0.5, 0.5, 0.8999999999999999, 0.5, 0.01, 0.01, 0.19999999999999996, 0.5], \"type\": \"scatter\"}, {\"y\": [0.5, 0.5, 0.5, 0.5, 0.99, 0.99, 0.5, 0.01, 0.3, 0.19999999999999996, 0.5], \"type\": \"scatter\"}], \"layout\": {\"title\": \"Chance to Act by Energy Level - 100\"}}, {\"data\": [{\"y\": [0.5, 0.5, 0.5, 0.5, 0.5, 0.99, 0.5, 0.01, 0.01, 0.19999999999999996, 0.5], \"type\": \"scatter\"}, {\"y\": [0.5, 0.5, 0.5, 0.5, 0.99, 0.99, 0.5, 0.01, 0.3, 0.19999999999999996, 0.5], \"type\": \"scatter\"}], \"layout\": {\"title\": \"Chance to Act by Energy Level - 200\"}}, {\"data\": [{\"y\": [0.5, 0.5, 0.5, 0.5, 0.5, 0.99, 0.5, 0.01, 0.01, 0.19999999999999996, 0.5], \"type\": \"scatter\"}, {\"y\": [0.5, 0.5, 0.5, 0.5, 0.99, 0.99, 0.5, 0.01, 0.3, 0.19999999999999996, 0.5], \"type\": \"scatter\"}], \"layout\": {\"title\": \"Chance to Act by Energy Level - 300\"}}, {\"data\": [{\"y\": [0.5, 0.5, 0.5, 0.5, 0.5, 0.99, 0.5, 0.01, 0.01, 0.19999999999999996, 0.5], \"type\": \"scatter\"}, {\"y\": [0.5, 0.5, 0.5, 0.5, 0.99, 0.99, 0.5, 0.01, 0.3, 0.19999999999999996, 0.5], \"type\": \"scatter\"}], \"layout\": {\"title\": \"Chance to Act by Energy Level - 400\"}}, {\"data\": [{\"y\": [0.5, 0.5, 0.5, 0.5, 0.5, 0.99, 0.5, 0.01, 0.01, 0.19999999999999996, 0.5], \"type\": \"scatter\"}, {\"y\": [0.5, 0.5, 0.5, 0.5, 0.99, 0.99, 0.5, 0.01, 0.3, 0.19999999999999996, 0.5], \"type\": \"scatter\"}], \"layout\": {\"title\": \"Chance to Act by Energy Level - 500\"}}, {\"data\": [{\"y\": [0.5, 0.5, 0.5, 0.5, 0.5, 0.99, 0.5, 0.01, 0.01, 0.19999999999999996, 0.5], \"type\": \"scatter\"}, {\"y\": [0.5, 0.5, 0.5, 0.5, 0.99, 0.99, 0.5, 0.01, 0.3, 0.19999999999999996, 0.5], \"type\": \"scatter\"}], \"layout\": {\"title\": \"Chance to Act by Energy Level - 600\"}}, {\"data\": [{\"y\": [0.5, 0.5, 0.5, 0.5, 0.5, 0.99, 0.5, 0.01, 0.01, 0.19999999999999996, 0.5], \"type\": \"scatter\"}, {\"y\": [0.5, 0.5, 0.5, 0.5, 0.99, 0.99, 0.5, 0.01, 0.3, 0.19999999999999996, 0.5], \"type\": \"scatter\"}], \"layout\": {\"title\": \"Chance to Act by Energy Level - 700\"}}, {\"data\": [{\"y\": [0.5, 0.5, 0.5, 0.5, 0.5, 0.99, 0.5, 0.01, 0.01, 0.19999999999999996, 0.5], \"type\": \"scatter\"}, {\"y\": [0.5, 0.5, 0.5, 0.5, 0.99, 0.99, 0.5, 0.01, 0.3, 0.19999999999999996, 0.5], \"type\": \"scatter\"}], \"layout\": {\"title\": \"Chance to Act by Energy Level - 800\"}}, {\"data\": [{\"y\": [0.5, 0.5, 0.5, 0.5, 0.8999999999999999, 0.99, 0.5, 0.01, 0.01, 0.19999999999999996, 0.5], \"type\": \"scatter\"}, {\"y\": [0.5, 0.5, 0.5, 0.99, 0.99, 0.99, 0.5, 0.01, 0.3, 0.19999999999999996, 0.5], \"type\": \"scatter\"}], \"layout\": {\"title\": \"Chance to Act by Energy Level - 900\"}}, {\"data\": [{\"y\": [0.5, 0.5, 0.5, 0.5, 0.8999999999999999, 0.99, 0.5, 0.01, 0.01, 0.19999999999999996, 0.5], \"type\": \"scatter\"}, {\"y\": [0.5, 0.5, 0.5, 0.99, 0.99, 0.99, 0.5, 0.01, 0.3, 0.19999999999999996, 0.5], \"type\": \"scatter\"}], \"layout\": {\"title\": \"Chance to Act by Energy Level - 1000\"}}, {\"data\": [{\"y\": [0.5, 0.5, 0.5, 0.5, 0.8999999999999999, 0.99, 0.5, 0.01, 0.01, 0.19999999999999996, 0.5], \"type\": \"scatter\"}, {\"y\": [0.5, 0.5, 0.5, 0.99, 0.99, 0.99, 0.5, 0.01, 0.3, 0.19999999999999996, 0.5], \"type\": \"scatter\"}], \"layout\": {\"title\": \"Chance to Act by Energy Level - 1100\"}}, {\"data\": [{\"y\": [0.5, 0.5, 0.5, 0.5, 0.8999999999999999, 0.99, 0.5, 0.01, 0.01, 0.19999999999999996, 0.5], \"type\": \"scatter\"}, {\"y\": [0.5, 0.5, 0.5, 0.99, 0.99, 0.99, 0.5, 0.01, 0.3, 0.19999999999999996, 0.5], \"type\": \"scatter\"}], \"layout\": {\"title\": \"Chance to Act by Energy Level - 1200\"}}, {\"data\": [{\"y\": [0.5, 0.5, 0.5, 0.5, 0.8999999999999999, 0.99, 0.5, 0.01, 0.01, 0.19999999999999996, 0.5], \"type\": \"scatter\"}, {\"y\": [0.5, 0.5, 0.5, 0.99, 0.99, 0.99, 0.5, 0.01, 0.3, 0.19999999999999996, 0.5], \"type\": \"scatter\"}], \"layout\": {\"title\": \"Chance to Act by Energy Level - 1300\"}}, {\"data\": [{\"y\": [0.5, 0.5, 0.5, 0.5, 0.8999999999999999, 0.99, 0.5, 0.01, 0.01, 0.19999999999999996, 0.5], \"type\": \"scatter\"}, {\"y\": [0.5, 0.5, 0.5, 0.99, 0.99, 0.99, 0.5, 0.01, 0.3, 0.19999999999999996, 0.5], \"type\": \"scatter\"}], \"layout\": {\"title\": \"Chance to Act by Energy Level - 1400\"}}, {\"data\": [{\"y\": [0.5, 0.5, 0.5, 0.5, 0.99, 0.99, 0.5, 0.01, 0.01, 0.19999999999999996, 0.5], \"type\": \"scatter\"}, {\"y\": [0.5, 0.5, 0.5, 0.99, 0.99, 0.99, 0.5, 0.01, 0.3, 0.19999999999999996, 0.5], \"type\": \"scatter\"}], \"layout\": {\"title\": \"Chance to Act by Energy Level - 1500\"}}, {\"data\": [{\"y\": [0.5, 0.5, 0.5, 0.5, 0.99, 0.99, 0.5, 0.01, 0.01, 0.19999999999999996, 0.5], \"type\": \"scatter\"}, {\"y\": [0.5, 0.5, 0.5, 0.99, 0.99, 0.99, 0.5, 0.01, 0.3, 0.19999999999999996, 0.5], \"type\": \"scatter\"}], \"layout\": {\"title\": \"Chance to Act by Energy Level - 1600\"}}, {\"data\": [{\"y\": [0.5, 0.5, 0.5, 0.5, 0.99, 0.99, 0.5, 0.01, 0.01, 0.19999999999999996, 0.5], \"type\": \"scatter\"}, {\"y\": [0.5, 0.5, 0.5, 0.99, 0.99, 0.99, 0.5, 0.01, 0.3, 0.19999999999999996, 0.5], \"type\": \"scatter\"}], \"layout\": {\"title\": \"Chance to Act by Energy Level - 1700\"}}, {\"data\": [{\"y\": [0.5, 0.5, 0.5, 0.5, 0.99, 0.99, 0.5, 0.01, 0.01, 0.19999999999999996, 0.5], \"type\": \"scatter\"}, {\"y\": [0.5, 0.5, 0.5, 0.99, 0.99, 0.99, 0.5, 0.01, 0.3, 0.19999999999999996, 0.5], \"type\": \"scatter\"}], \"layout\": {\"title\": \"Chance to Act by Energy Level - 1800\"}}, {\"data\": [{\"y\": [0.5, 0.5, 0.5, 0.5, 0.99, 0.99, 0.5, 0.01, 0.01, 0.19999999999999996, 0.5], \"type\": \"scatter\"}, {\"y\": [0.5, 0.5, 0.5, 0.99, 0.99, 0.99, 0.5, 0.01, 0.3, 0.19999999999999996, 0.5], \"type\": \"scatter\"}], \"layout\": {\"title\": \"Chance to Act by Energy Level - 1900\"}}, {\"data\": [{\"y\": [0.5, 0.5, 0.5, 0.5, 0.99, 0.99, 0.5, 0.01, 0.01, 0.19999999999999996, 0.5], \"type\": \"scatter\"}, {\"y\": [0.5, 0.5, 0.5, 0.99, 0.99, 0.99, 0.5, 0.01, 0.3, 0.19999999999999996, 0.5], \"type\": \"scatter\"}], \"layout\": {\"title\": \"Chance to Act by Energy Level - 2000\"}}, {\"data\": [{\"y\": [0.5, 0.5, 0.5, 0.5, 0.99, 0.99, 0.5, 0.01, 0.01, 0.19999999999999996, 0.5], \"type\": \"scatter\"}, {\"y\": [0.5, 0.5, 0.5, 0.99, 0.99, 0.99, 0.5, 0.01, 0.3, 0.19999999999999996, 0.5], \"type\": \"scatter\"}], \"layout\": {\"title\": \"Chance to Act by Energy Level - 2100\"}}, {\"data\": [{\"y\": [0.5, 0.5, 0.5, 0.5, 0.99, 0.99, 0.5, 0.01, 0.01, 0.19999999999999996, 0.5], \"type\": \"scatter\"}, {\"y\": [0.5, 0.5, 0.5, 0.99, 0.99, 0.99, 0.5, 0.01, 0.3, 0.19999999999999996, 0.5], \"type\": \"scatter\"}], \"layout\": {\"title\": \"Chance to Act by Energy Level - 2200\"}}, {\"data\": [{\"y\": [0.5, 0.5, 0.5, 0.5, 0.99, 0.99, 0.5, 0.01, 0.01, 0.19999999999999996, 0.5], \"type\": \"scatter\"}, {\"y\": [0.5, 0.5, 0.5, 0.99, 0.99, 0.99, 0.5, 0.01, 0.3, 0.19999999999999996, 0.5], \"type\": \"scatter\"}], \"layout\": {\"title\": \"Chance to Act by Energy Level - 2300\"}}, {\"data\": [{\"y\": [0.5, 0.5, 0.5, 0.5, 0.99, 0.99, 0.5, 0.01, 0.01, 0.19999999999999996, 0.5], \"type\": \"scatter\"}, {\"y\": [0.5, 0.5, 0.5, 0.99, 0.99, 0.99, 0.5, 0.01, 0.3, 0.19999999999999996, 0.5], \"type\": \"scatter\"}], \"layout\": {\"title\": \"Chance to Act by Energy Level - 2400\"}}, {\"data\": [{\"y\": [0.5, 0.5, 0.5, 0.5, 0.99, 0.99, 0.5, 0.01, 0.01, 0.19999999999999996, 0.5], \"type\": \"scatter\"}, {\"y\": [0.5, 0.5, 0.5, 0.99, 0.99, 0.99, 0.5, 0.01, 0.3, 0.19999999999999996, 0.5], \"type\": \"scatter\"}], \"layout\": {\"title\": \"Chance to Act by Energy Level - 2500\"}}, {\"data\": [{\"y\": [0.5, 0.5, 0.5, 0.5, 0.99, 0.99, 0.5, 0.01, 0.01, 0.19999999999999996, 0.5], \"type\": \"scatter\"}, {\"y\": [0.5, 0.5, 0.5, 0.99, 0.99, 0.99, 0.5, 0.01, 0.3, 0.19999999999999996, 0.5], \"type\": \"scatter\"}], \"layout\": {\"title\": \"Chance to Act by Energy Level - 2600\"}}, {\"data\": [{\"y\": [0.5, 0.5, 0.5, 0.5, 0.99, 0.99, 0.5, 0.01, 0.01, 0.19999999999999996, 0.5], \"type\": \"scatter\"}, {\"y\": [0.5, 0.5, 0.5, 0.99, 0.99, 0.99, 0.5, 0.01, 0.3, 0.19999999999999996, 0.5], \"type\": \"scatter\"}], \"layout\": {\"title\": \"Chance to Act by Energy Level - 2700\"}}, {\"data\": [{\"y\": [0.5, 0.5, 0.5, 0.5, 0.99, 0.99, 0.5, 0.01, 0.01, 0.19999999999999996, 0.5], \"type\": \"scatter\"}, {\"y\": [0.5, 0.5, 0.5, 0.99, 0.99, 0.99, 0.5, 0.01, 0.3, 0.19999999999999996, 0.5], \"type\": \"scatter\"}], \"layout\": {\"title\": \"Chance to Act by Energy Level - 2800\"}}, {\"data\": [{\"y\": [0.5, 0.5, 0.5, 0.5, 0.99, 0.99, 0.5, 0.01, 0.01, 0.19999999999999996, 0.5], \"type\": \"scatter\"}, {\"y\": [0.5, 0.5, 0.5, 0.99, 0.99, 0.99, 0.5, 0.01, 0.3, 0.19999999999999996, 0.5], \"type\": \"scatter\"}], \"layout\": {\"title\": \"Chance to Act by Energy Level - 2900\"}}, {\"data\": [{\"y\": [0.5, 0.5, 0.5, 0.5, 0.99, 0.99, 0.5, 0.01, 0.01, 0.19999999999999996, 0.5], \"type\": \"scatter\"}, {\"y\": [0.5, 0.5, 0.5, 0.99, 0.99, 0.99, 0.5, 0.01, 0.3, 0.19999999999999996, 0.5], \"type\": \"scatter\"}], \"layout\": {\"title\": \"Chance to Act by Energy Level - 3000\"}}, {\"data\": [{\"y\": [0.5, 0.5, 0.5, 0.5, 0.99, 0.99, 0.5, 0.01, 0.01, 0.19999999999999996, 0.5], \"type\": \"scatter\"}, {\"y\": [0.5, 0.5, 0.5, 0.99, 0.99, 0.99, 0.5, 0.01, 0.3, 0.19999999999999996, 0.5], \"type\": \"scatter\"}], \"layout\": {\"title\": \"Chance to Act by Energy Level - 3100\"}}, {\"data\": [{\"y\": [0.5, 0.5, 0.5, 0.5, 0.99, 0.99, 0.5, 0.01, 0.01, 0.19999999999999996, 0.5], \"type\": \"scatter\"}, {\"y\": [0.5, 0.5, 0.5, 0.99, 0.99, 0.99, 0.5, 0.01, 0.3, 0.19999999999999996, 0.5], \"type\": \"scatter\"}], \"layout\": {\"title\": \"Chance to Act by Energy Level - 3200\"}}, {\"data\": [{\"y\": [0.5, 0.5, 0.5, 0.5, 0.99, 0.99, 0.5, 0.01, 0.01, 0.19999999999999996, 0.5], \"type\": \"scatter\"}, {\"y\": [0.5, 0.5, 0.5, 0.99, 0.99, 0.99, 0.5, 0.01, 0.3, 0.19999999999999996, 0.5], \"type\": \"scatter\"}], \"layout\": {\"title\": \"Chance to Act by Energy Level - 3300\"}}, {\"data\": [{\"y\": [0.5, 0.5, 0.5, 0.5, 0.99, 0.99, 0.5, 0.01, 0.01, 0.19999999999999996, 0.5], \"type\": \"scatter\"}, {\"y\": [0.5, 0.5, 0.5, 0.99, 0.99, 0.99, 0.5, 0.01, 0.3, 0.19999999999999996, 0.5], \"type\": \"scatter\"}], \"layout\": {\"title\": \"Chance to Act by Energy Level - 3400\"}}, {\"data\": [{\"y\": [0.5, 0.5, 0.5, 0.5, 0.99, 0.99, 0.5, 0.01, 0.01, 0.19999999999999996, 0.5], \"type\": \"scatter\"}, {\"y\": [0.5, 0.5, 0.5, 0.99, 0.99, 0.99, 0.5, 0.01, 0.3, 0.19999999999999996, 0.5], \"type\": \"scatter\"}], \"layout\": {\"title\": \"Chance to Act by Energy Level - 3500\"}}, {\"data\": [{\"y\": [0.5, 0.5, 0.5, 0.5, 0.99, 0.99, 0.5, 0.01, 0.01, 0.19999999999999996, 0.5], \"type\": \"scatter\"}, {\"y\": [0.5, 0.5, 0.5, 0.99, 0.99, 0.99, 0.5, 0.01, 0.09999999999999998, 0.19999999999999996, 0.5], \"type\": \"scatter\"}], \"layout\": {\"title\": \"Chance to Act by Energy Level - 3600\"}}, {\"data\": [{\"y\": [0.5, 0.5, 0.5, 0.5, 0.99, 0.99, 0.5, 0.01, 0.01, 0.19999999999999996, 0.5], \"type\": \"scatter\"}, {\"y\": [0.5, 0.5, 0.5, 0.99, 0.99, 0.99, 0.5, 0.01, 0.09999999999999998, 0.19999999999999996, 0.5], \"type\": \"scatter\"}], \"layout\": {\"title\": \"Chance to Act by Energy Level - 3700\"}}, {\"data\": [{\"y\": [0.5, 0.5, 0.5, 0.5, 0.99, 0.99, 0.5, 0.01, 0.01, 0.19999999999999996, 0.5], \"type\": \"scatter\"}, {\"y\": [0.5, 0.5, 0.5, 0.99, 0.99, 0.99, 0.5, 0.01, 0.09999999999999998, 0.19999999999999996, 0.5], \"type\": \"scatter\"}], \"layout\": {\"title\": \"Chance to Act by Energy Level - 3800\"}}, {\"data\": [{\"y\": [0.5, 0.5, 0.5, 0.5, 0.99, 0.99, 0.5, 0.01, 0.01, 0.19999999999999996, 0.5], \"type\": \"scatter\"}, {\"y\": [0.5, 0.5, 0.5, 0.99, 0.99, 0.99, 0.5, 0.01, 0.09999999999999998, 0.19999999999999996, 0.5], \"type\": \"scatter\"}], \"layout\": {\"title\": \"Chance to Act by Energy Level - 3900\"}}, {\"data\": [{\"y\": [0.5, 0.5, 0.5, 0.5, 0.99, 0.99, 0.5, 0.01, 0.01, 0.19999999999999996, 0.5], \"type\": \"scatter\"}, {\"y\": [0.5, 0.5, 0.5, 0.99, 0.99, 0.99, 0.5, 0.01, 0.09999999999999998, 0.19999999999999996, 0.5], \"type\": \"scatter\"}], \"layout\": {\"title\": \"Chance to Act by Energy Level - 4000\"}}, {\"data\": [{\"y\": [0.5, 0.5, 0.5, 0.5, 0.99, 0.99, 0.5, 0.01, 0.01, 0.19999999999999996, 0.5], \"type\": \"scatter\"}, {\"y\": [0.5, 0.5, 0.5, 0.99, 0.99, 0.99, 0.5, 0.01, 0.09999999999999998, 0.19999999999999996, 0.5], \"type\": \"scatter\"}], \"layout\": {\"title\": \"Chance to Act by Energy Level - 4100\"}}, {\"data\": [{\"y\": [0.5, 0.5, 0.5, 0.5, 0.99, 0.99, 0.5, 0.01, 0.01, 0.19999999999999996, 0.5], \"type\": \"scatter\"}, {\"y\": [0.5, 0.5, 0.5, 0.99, 0.99, 0.99, 0.5, 0.01, 0.09999999999999998, 0.19999999999999996, 0.5], \"type\": \"scatter\"}], \"layout\": {\"title\": \"Chance to Act by Energy Level - 4200\"}}, {\"data\": [{\"y\": [0.5, 0.5, 0.5, 0.5, 0.99, 0.99, 0.5, 0.01, 0.01, 0.19999999999999996, 0.5], \"type\": \"scatter\"}, {\"y\": [0.5, 0.5, 0.5, 0.99, 0.99, 0.99, 0.5, 0.01, 0.09999999999999998, 0.19999999999999996, 0.5], \"type\": \"scatter\"}], \"layout\": {\"title\": \"Chance to Act by Energy Level - 4300\"}}, {\"data\": [{\"y\": [0.5, 0.5, 0.5, 0.5, 0.99, 0.99, 0.5, 0.01, 0.01, 0.19999999999999996, 0.5], \"type\": \"scatter\"}, {\"y\": [0.5, 0.5, 0.5, 0.99, 0.99, 0.99, 0.5, 0.01, 0.09999999999999998, 0.19999999999999996, 0.5], \"type\": \"scatter\"}], \"layout\": {\"title\": \"Chance to Act by Energy Level - 4400\"}}, {\"data\": [{\"y\": [0.5, 0.5, 0.5, 0.5, 0.99, 0.99, 0.5, 0.01, 0.01, 0.19999999999999996, 0.5], \"type\": \"scatter\"}, {\"y\": [0.5, 0.5, 0.5, 0.99, 0.99, 0.99, 0.5, 0.01, 0.09999999999999998, 0.19999999999999996, 0.5], \"type\": \"scatter\"}], \"layout\": {\"title\": \"Chance to Act by Energy Level - 4500\"}}, {\"data\": [{\"y\": [0.5, 0.5, 0.5, 0.5, 0.99, 0.99, 0.5, 0.01, 0.01, 0.19999999999999996, 0.5], \"type\": \"scatter\"}, {\"y\": [0.5, 0.5, 0.5, 0.99, 0.99, 0.99, 0.5, 0.01, 0.09999999999999998, 0.19999999999999996, 0.5], \"type\": \"scatter\"}], \"layout\": {\"title\": \"Chance to Act by Energy Level - 4600\"}}, {\"data\": [{\"y\": [0.5, 0.5, 0.5, 0.5, 0.99, 0.99, 0.5, 0.01, 0.01, 0.19999999999999996, 0.5], \"type\": \"scatter\"}, {\"y\": [0.5, 0.5, 0.5, 0.99, 0.99, 0.99, 0.5, 0.01, 0.09999999999999998, 0.19999999999999996, 0.5], \"type\": \"scatter\"}], \"layout\": {\"title\": \"Chance to Act by Energy Level - 4700\"}}, {\"data\": [{\"y\": [0.5, 0.5, 0.5, 0.5, 0.99, 0.99, 0.5, 0.01, 0.01, 0.19999999999999996, 0.5], \"type\": \"scatter\"}, {\"y\": [0.5, 0.5, 0.5, 0.99, 0.99, 0.99, 0.5, 0.01, 0.09999999999999998, 0.19999999999999996, 0.5], \"type\": \"scatter\"}], \"layout\": {\"title\": \"Chance to Act by Energy Level - 4800\"}}, {\"data\": [{\"y\": [0.5, 0.5, 0.5, 0.5, 0.99, 0.99, 0.5, 0.01, 0.01, 0.19999999999999996, 0.5], \"type\": \"scatter\"}, {\"y\": [0.5, 0.5, 0.5, 0.99, 0.99, 0.99, 0.5, 0.01, 0.09999999999999998, 0.19999999999999996, 0.5], \"type\": \"scatter\"}], \"layout\": {\"title\": \"Chance to Act by Energy Level - 4900\"}}, {\"data\": [{\"y\": [0.5, 0.5, 0.5, 0.5, 0.99, 0.99, 0.5, 0.01, 0.01, 0.19999999999999996, 0.5], \"type\": \"scatter\"}, {\"y\": [0.5, 0.5, 0.5, 0.99, 0.99, 0.99, 0.5, 0.01, 0.09999999999999998, 0.19999999999999996, 0.5], \"type\": \"scatter\"}], \"layout\": {\"title\": \"Chance to Act by Energy Level - 5000\"}}, {\"data\": [{\"y\": [0.5, 0.5, 0.5, 0.5, 0.99, 0.99, 0.5, 0.01, 0.01, 0.19999999999999996, 0.5], \"type\": \"scatter\"}, {\"y\": [0.5, 0.5, 0.5, 0.99, 0.99, 0.99, 0.5, 0.01, 0.09999999999999998, 0.19999999999999996, 0.5], \"type\": \"scatter\"}], \"layout\": {\"title\": \"Chance to Act by Energy Level - 5100\"}}, {\"data\": [{\"y\": [0.5, 0.5, 0.5, 0.5, 0.99, 0.99, 0.5, 0.01, 0.01, 0.19999999999999996, 0.5], \"type\": \"scatter\"}, {\"y\": [0.5, 0.5, 0.5, 0.99, 0.99, 0.99, 0.5, 0.01, 0.09999999999999998, 0.19999999999999996, 0.5], \"type\": \"scatter\"}], \"layout\": {\"title\": \"Chance to Act by Energy Level - 5200\"}}, {\"data\": [{\"y\": [0.5, 0.5, 0.5, 0.5, 0.99, 0.99, 0.5, 0.01, 0.01, 0.19999999999999996, 0.5], \"type\": \"scatter\"}, {\"y\": [0.5, 0.5, 0.5, 0.99, 0.99, 0.99, 0.5, 0.01, 0.09999999999999998, 0.19999999999999996, 0.5], \"type\": \"scatter\"}], \"layout\": {\"title\": \"Chance to Act by Energy Level - 5300\"}}, {\"data\": [{\"y\": [0.5, 0.5, 0.5, 0.5, 0.99, 0.99, 0.5, 0.01, 0.01, 0.19999999999999996, 0.5], \"type\": \"scatter\"}, {\"y\": [0.5, 0.5, 0.5, 0.99, 0.99, 0.99, 0.5, 0.01, 0.09999999999999998, 0.19999999999999996, 0.5], \"type\": \"scatter\"}], \"layout\": {\"title\": \"Chance to Act by Energy Level - 5400\"}}, {\"data\": [{\"y\": [0.5, 0.5, 0.5, 0.5, 0.99, 0.99, 0.5, 0.01, 0.01, 0.19999999999999996, 0.5], \"type\": \"scatter\"}, {\"y\": [0.5, 0.5, 0.5, 0.99, 0.99, 0.99, 0.5, 0.01, 0.09999999999999998, 0.19999999999999996, 0.5], \"type\": \"scatter\"}], \"layout\": {\"title\": \"Chance to Act by Energy Level - 5500\"}}, {\"data\": [{\"y\": [0.5, 0.5, 0.5, 0.5, 0.99, 0.99, 0.5, 0.01, 0.01, 0.19999999999999996, 0.5], \"type\": \"scatter\"}, {\"y\": [0.5, 0.5, 0.5, 0.99, 0.99, 0.99, 0.5, 0.01, 0.09999999999999998, 0.19999999999999996, 0.5], \"type\": \"scatter\"}], \"layout\": {\"title\": \"Chance to Act by Energy Level - 5600\"}}, {\"data\": [{\"y\": [0.5, 0.5, 0.5, 0.5, 0.99, 0.99, 0.5, 0.01, 0.01, 0.19999999999999996, 0.5], \"type\": \"scatter\"}, {\"y\": [0.5, 0.5, 0.5, 0.99, 0.99, 0.99, 0.5, 0.01, 0.09999999999999998, 0.19999999999999996, 0.5], \"type\": \"scatter\"}], \"layout\": {\"title\": \"Chance to Act by Energy Level - 5700\"}}, {\"data\": [{\"y\": [0.5, 0.5, 0.5, 0.5, 0.99, 0.99, 0.5, 0.01, 0.01, 0.19999999999999996, 0.5], \"type\": \"scatter\"}, {\"y\": [0.5, 0.5, 0.5, 0.99, 0.99, 0.99, 0.5, 0.01, 0.09999999999999998, 0.19999999999999996, 0.5], \"type\": \"scatter\"}], \"layout\": {\"title\": \"Chance to Act by Energy Level - 5800\"}}, {\"data\": [{\"y\": [0.5, 0.5, 0.5, 0.5, 0.99, 0.99, 0.5, 0.01, 0.01, 0.19999999999999996, 0.5], \"type\": \"scatter\"}, {\"y\": [0.5, 0.5, 0.5, 0.99, 0.99, 0.99, 0.5, 0.01, 0.09999999999999998, 0.19999999999999996, 0.5], \"type\": \"scatter\"}], \"layout\": {\"title\": \"Chance to Act by Energy Level - 5900\"}}, {\"data\": [{\"y\": [0.5, 0.5, 0.5, 0.5, 0.99, 0.99, 0.5, 0.01, 0.01, 0.19999999999999996, 0.5], \"type\": \"scatter\"}, {\"y\": [0.5, 0.5, 0.5, 0.99, 0.99, 0.99, 0.5, 0.01, 0.09999999999999998, 0.19999999999999996, 0.5], \"type\": \"scatter\"}], \"layout\": {\"title\": \"Chance to Act by Energy Level - 6000\"}}, {\"data\": [{\"y\": [0.5, 0.5, 0.5, 0.5, 0.99, 0.99, 0.5, 0.01, 0.01, 0.19999999999999996, 0.5], \"type\": \"scatter\"}, {\"y\": [0.5, 0.5, 0.5, 0.99, 0.99, 0.99, 0.5, 0.01, 0.09999999999999998, 0.19999999999999996, 0.5], \"type\": \"scatter\"}], \"layout\": {\"title\": \"Chance to Act by Energy Level - 6100\"}}, {\"data\": [{\"y\": [0.5, 0.5, 0.5, 0.5, 0.99, 0.99, 0.5, 0.01, 0.01, 0.19999999999999996, 0.5], \"type\": \"scatter\"}, {\"y\": [0.5, 0.5, 0.5, 0.99, 0.99, 0.99, 0.5, 0.01, 0.09999999999999998, 0.19999999999999996, 0.5], \"type\": \"scatter\"}], \"layout\": {\"title\": \"Chance to Act by Energy Level - 6200\"}}, {\"data\": [{\"y\": [0.5, 0.5, 0.5, 0.5, 0.99, 0.99, 0.5, 0.01, 0.01, 0.19999999999999996, 0.5], \"type\": \"scatter\"}, {\"y\": [0.5, 0.5, 0.5, 0.99, 0.99, 0.99, 0.5, 0.01, 0.09999999999999998, 0.19999999999999996, 0.5], \"type\": \"scatter\"}], \"layout\": {\"title\": \"Chance to Act by Energy Level - 6300\"}}, {\"data\": [{\"y\": [0.5, 0.5, 0.5, 0.5, 0.99, 0.99, 0.5, 0.01, 0.01, 0.19999999999999996, 0.5], \"type\": \"scatter\"}, {\"y\": [0.5, 0.5, 0.5, 0.99, 0.99, 0.99, 0.5, 0.01, 0.09999999999999998, 0.19999999999999996, 0.5], \"type\": \"scatter\"}], \"layout\": {\"title\": \"Chance to Act by Energy Level - 6400\"}}, {\"data\": [{\"y\": [0.5, 0.5, 0.5, 0.5, 0.99, 0.99, 0.5, 0.01, 0.01, 0.19999999999999996, 0.5], \"type\": \"scatter\"}, {\"y\": [0.5, 0.5, 0.5, 0.99, 0.99, 0.99, 0.5, 0.01, 0.09999999999999998, 0.19999999999999996, 0.5], \"type\": \"scatter\"}], \"layout\": {\"title\": \"Chance to Act by Energy Level - 6500\"}}, {\"data\": [{\"y\": [0.5, 0.5, 0.5, 0.5, 0.99, 0.99, 0.5, 0.01, 0.01, 0.19999999999999996, 0.5], \"type\": \"scatter\"}, {\"y\": [0.5, 0.5, 0.5, 0.99, 0.99, 0.99, 0.5, 0.01, 0.09999999999999998, 0.19999999999999996, 0.5], \"type\": \"scatter\"}], \"layout\": {\"title\": \"Chance to Act by Energy Level - 6600\"}}, {\"data\": [{\"y\": [0.5, 0.5, 0.5, 0.5, 0.99, 0.99, 0.5, 0.01, 0.01, 0.19999999999999996, 0.5], \"type\": \"scatter\"}, {\"y\": [0.5, 0.5, 0.5, 0.99, 0.99, 0.99, 0.5, 0.01, 0.09999999999999998, 0.19999999999999996, 0.5], \"type\": \"scatter\"}], \"layout\": {\"title\": \"Chance to Act by Energy Level - 6700\"}}, {\"data\": [{\"y\": [0.5, 0.5, 0.5, 0.5, 0.99, 0.99, 0.5, 0.01, 0.01, 0.19999999999999996, 0.5], \"type\": \"scatter\"}, {\"y\": [0.5, 0.5, 0.5, 0.99, 0.99, 0.99, 0.5, 0.01, 0.09999999999999998, 0.19999999999999996, 0.5], \"type\": \"scatter\"}], \"layout\": {\"title\": \"Chance to Act by Energy Level - 6800\"}}, {\"data\": [{\"y\": [0.5, 0.5, 0.5, 0.5, 0.99, 0.99, 0.5, 0.01, 0.01, 0.19999999999999996, 0.5], \"type\": \"scatter\"}, {\"y\": [0.5, 0.5, 0.5, 0.99, 0.99, 0.99, 0.5, 0.01, 0.09999999999999998, 0.19999999999999996, 0.5], \"type\": \"scatter\"}], \"layout\": {\"title\": \"Chance to Act by Energy Level - 6900\"}}, {\"data\": [{\"y\": [0.5, 0.5, 0.5, 0.5, 0.99, 0.99, 0.5, 0.01, 0.01, 0.19999999999999996, 0.5], \"type\": \"scatter\"}, {\"y\": [0.5, 0.5, 0.5, 0.99, 0.99, 0.99, 0.5, 0.01, 0.09999999999999998, 0.19999999999999996, 0.5], \"type\": \"scatter\"}], \"layout\": {\"title\": \"Chance to Act by Energy Level - 7000\"}}, {\"data\": [{\"y\": [0.5, 0.5, 0.5, 0.5, 0.99, 0.99, 0.5, 0.01, 0.01, 0.19999999999999996, 0.5], \"type\": \"scatter\"}, {\"y\": [0.5, 0.5, 0.5, 0.99, 0.99, 0.99, 0.5, 0.01, 0.09999999999999998, 0.19999999999999996, 0.5], \"type\": \"scatter\"}], \"layout\": {\"title\": \"Chance to Act by Energy Level - 7100\"}}, {\"data\": [{\"y\": [0.5, 0.5, 0.5, 0.5, 0.99, 0.99, 0.5, 0.01, 0.01, 0.19999999999999996, 0.5], \"type\": \"scatter\"}, {\"y\": [0.5, 0.5, 0.5, 0.99, 0.99, 0.99, 0.5, 0.01, 0.09999999999999998, 0.19999999999999996, 0.5], \"type\": \"scatter\"}], \"layout\": {\"title\": \"Chance to Act by Energy Level - 7200\"}}, {\"data\": [{\"y\": [0.5, 0.5, 0.5, 0.5, 0.99, 0.99, 0.5, 0.01, 0.01, 0.19999999999999996, 0.5], \"type\": \"scatter\"}, {\"y\": [0.5, 0.5, 0.5, 0.99, 0.99, 0.99, 0.5, 0.01, 0.09999999999999998, 0.19999999999999996, 0.5], \"type\": \"scatter\"}], \"layout\": {\"title\": \"Chance to Act by Energy Level - 7300\"}}, {\"data\": [{\"y\": [0.5, 0.5, 0.5, 0.5, 0.99, 0.99, 0.5, 0.01, 0.01, 0.19999999999999996, 0.5], \"type\": \"scatter\"}, {\"y\": [0.5, 0.5, 0.5, 0.99, 0.99, 0.99, 0.5, 0.01, 0.09999999999999998, 0.19999999999999996, 0.5], \"type\": \"scatter\"}], \"layout\": {\"title\": \"Chance to Act by Energy Level - 7400\"}}, {\"data\": [{\"y\": [0.5, 0.5, 0.5, 0.5, 0.99, 0.99, 0.5, 0.01, 0.01, 0.19999999999999996, 0.5], \"type\": \"scatter\"}, {\"y\": [0.5, 0.5, 0.5, 0.99, 0.99, 0.99, 0.5, 0.01, 0.09999999999999998, 0.19999999999999996, 0.5], \"type\": \"scatter\"}], \"layout\": {\"title\": \"Chance to Act by Energy Level - 7500\"}}, {\"data\": [{\"y\": [0.5, 0.5, 0.5, 0.5, 0.99, 0.99, 0.5, 0.01, 0.01, 0.19999999999999996, 0.5], \"type\": \"scatter\"}, {\"y\": [0.5, 0.5, 0.5, 0.99, 0.99, 0.99, 0.5, 0.01, 0.09999999999999998, 0.19999999999999996, 0.5], \"type\": \"scatter\"}], \"layout\": {\"title\": \"Chance to Act by Energy Level - 7600\"}}, {\"data\": [{\"y\": [0.5, 0.5, 0.5, 0.5, 0.99, 0.99, 0.5, 0.01, 0.01, 0.19999999999999996, 0.5], \"type\": \"scatter\"}, {\"y\": [0.5, 0.5, 0.5, 0.99, 0.99, 0.99, 0.5, 0.01, 0.09999999999999998, 0.19999999999999996, 0.5], \"type\": \"scatter\"}], \"layout\": {\"title\": \"Chance to Act by Energy Level - 7700\"}}, {\"data\": [{\"y\": [0.5, 0.5, 0.5, 0.5, 0.99, 0.99, 0.5, 0.01, 0.01, 0.19999999999999996, 0.5], \"type\": \"scatter\"}, {\"y\": [0.5, 0.5, 0.5, 0.99, 0.99, 0.99, 0.5, 0.01, 0.09999999999999998, 0.19999999999999996, 0.5], \"type\": \"scatter\"}], \"layout\": {\"title\": \"Chance to Act by Energy Level - 7800\"}}, {\"data\": [{\"y\": [0.5, 0.5, 0.5, 0.5, 0.99, 0.99, 0.5, 0.01, 0.01, 0.19999999999999996, 0.5], \"type\": \"scatter\"}, {\"y\": [0.5, 0.5, 0.5, 0.99, 0.99, 0.99, 0.5, 0.01, 0.09999999999999998, 0.19999999999999996, 0.5], \"type\": \"scatter\"}], \"layout\": {\"title\": \"Chance to Act by Energy Level - 7900\"}}, {\"data\": [{\"y\": [0.5, 0.5, 0.5, 0.5, 0.99, 0.99, 0.5, 0.01, 0.01, 0.19999999999999996, 0.5], \"type\": \"scatter\"}, {\"y\": [0.5, 0.5, 0.5, 0.99, 0.99, 0.99, 0.5, 0.01, 0.09999999999999998, 0.19999999999999996, 0.5], \"type\": \"scatter\"}], \"layout\": {\"title\": \"Chance to Act by Energy Level - 8000\"}}, {\"data\": [{\"y\": [0.5, 0.5, 0.5, 0.5, 0.99, 0.99, 0.5, 0.01, 0.01, 0.19999999999999996, 0.5], \"type\": \"scatter\"}, {\"y\": [0.5, 0.5, 0.5, 0.99, 0.99, 0.99, 0.5, 0.01, 0.09999999999999998, 0.19999999999999996, 0.5], \"type\": \"scatter\"}], \"layout\": {\"title\": \"Chance to Act by Energy Level - 8100\"}}, {\"data\": [{\"y\": [0.5, 0.5, 0.5, 0.5, 0.99, 0.99, 0.5, 0.01, 0.01, 0.19999999999999996, 0.5], \"type\": \"scatter\"}, {\"y\": [0.5, 0.5, 0.5, 0.99, 0.99, 0.99, 0.5, 0.01, 0.09999999999999998, 0.19999999999999996, 0.5], \"type\": \"scatter\"}], \"layout\": {\"title\": \"Chance to Act by Energy Level - 8200\"}}, {\"data\": [{\"y\": [0.5, 0.5, 0.5, 0.5, 0.99, 0.99, 0.5, 0.01, 0.01, 0.19999999999999996, 0.5], \"type\": \"scatter\"}, {\"y\": [0.5, 0.5, 0.5, 0.99, 0.99, 0.99, 0.5, 0.01, 0.09999999999999998, 0.19999999999999996, 0.5], \"type\": \"scatter\"}], \"layout\": {\"title\": \"Chance to Act by Energy Level - 8300\"}}, {\"data\": [{\"y\": [0.5, 0.5, 0.5, 0.5, 0.99, 0.99, 0.5, 0.01, 0.01, 0.19999999999999996, 0.5], \"type\": \"scatter\"}, {\"y\": [0.5, 0.5, 0.5, 0.99, 0.99, 0.99, 0.5, 0.01, 0.09999999999999998, 0.19999999999999996, 0.5], \"type\": \"scatter\"}], \"layout\": {\"title\": \"Chance to Act by Energy Level - 8400\"}}, {\"data\": [{\"y\": [0.5, 0.5, 0.5, 0.5, 0.99, 0.99, 0.5, 0.01, 0.01, 0.19999999999999996, 0.5], \"type\": \"scatter\"}, {\"y\": [0.5, 0.5, 0.5, 0.99, 0.99, 0.99, 0.5, 0.01, 0.09999999999999998, 0.19999999999999996, 0.5], \"type\": \"scatter\"}], \"layout\": {\"title\": \"Chance to Act by Energy Level - 8500\"}}, {\"data\": [{\"y\": [0.5, 0.5, 0.5, 0.5, 0.99, 0.99, 0.5, 0.01, 0.01, 0.19999999999999996, 0.5], \"type\": \"scatter\"}, {\"y\": [0.5, 0.5, 0.5, 0.99, 0.99, 0.99, 0.5, 0.01, 0.09999999999999998, 0.19999999999999996, 0.5], \"type\": \"scatter\"}], \"layout\": {\"title\": \"Chance to Act by Energy Level - 8600\"}}, {\"data\": [{\"y\": [0.5, 0.5, 0.5, 0.5, 0.99, 0.99, 0.5, 0.01, 0.01, 0.19999999999999996, 0.5], \"type\": \"scatter\"}, {\"y\": [0.5, 0.5, 0.5, 0.99, 0.99, 0.99, 0.5, 0.01, 0.09999999999999998, 0.19999999999999996, 0.5], \"type\": \"scatter\"}], \"layout\": {\"title\": \"Chance to Act by Energy Level - 8700\"}}, {\"data\": [{\"y\": [0.5, 0.5, 0.5, 0.5, 0.99, 0.99, 0.5, 0.01, 0.01, 0.19999999999999996, 0.5], \"type\": \"scatter\"}, {\"y\": [0.5, 0.5, 0.5, 0.99, 0.99, 0.99, 0.5, 0.01, 0.09999999999999998, 0.19999999999999996, 0.5], \"type\": \"scatter\"}], \"layout\": {\"title\": \"Chance to Act by Energy Level - 8800\"}}, {\"data\": [{\"y\": [0.5, 0.5, 0.5, 0.5, 0.99, 0.99, 0.5, 0.01, 0.01, 0.19999999999999996, 0.5], \"type\": \"scatter\"}, {\"y\": [0.5, 0.5, 0.5, 0.99, 0.99, 0.99, 0.5, 0.01, 0.09999999999999998, 0.19999999999999996, 0.5], \"type\": \"scatter\"}], \"layout\": {\"title\": \"Chance to Act by Energy Level - 8900\"}}, {\"data\": [{\"y\": [0.5, 0.5, 0.5, 0.5, 0.99, 0.99, 0.5, 0.01, 0.01, 0.19999999999999996, 0.5], \"type\": \"scatter\"}, {\"y\": [0.5, 0.5, 0.5, 0.99, 0.99, 0.99, 0.5, 0.01, 0.09999999999999998, 0.19999999999999996, 0.5], \"type\": \"scatter\"}], \"layout\": {\"title\": \"Chance to Act by Energy Level - 9000\"}}, {\"data\": [{\"y\": [0.5, 0.5, 0.5, 0.5, 0.99, 0.99, 0.5, 0.01, 0.01, 0.19999999999999996, 0.5], \"type\": \"scatter\"}, {\"y\": [0.5, 0.5, 0.5, 0.99, 0.99, 0.99, 0.5, 0.01, 0.09999999999999998, 0.19999999999999996, 0.5], \"type\": \"scatter\"}], \"layout\": {\"title\": \"Chance to Act by Energy Level - 9100\"}}, {\"data\": [{\"y\": [0.5, 0.5, 0.5, 0.5, 0.99, 0.99, 0.5, 0.01, 0.01, 0.19999999999999996, 0.5], \"type\": \"scatter\"}, {\"y\": [0.5, 0.5, 0.5, 0.99, 0.99, 0.99, 0.5, 0.01, 0.09999999999999998, 0.19999999999999996, 0.5], \"type\": \"scatter\"}], \"layout\": {\"title\": \"Chance to Act by Energy Level - 9200\"}}, {\"data\": [{\"y\": [0.5, 0.5, 0.5, 0.5, 0.99, 0.99, 0.5, 0.01, 0.01, 0.19999999999999996, 0.5], \"type\": \"scatter\"}, {\"y\": [0.5, 0.5, 0.5, 0.99, 0.99, 0.99, 0.5, 0.01, 0.09999999999999998, 0.19999999999999996, 0.5], \"type\": \"scatter\"}], \"layout\": {\"title\": \"Chance to Act by Energy Level - 9300\"}}, {\"data\": [{\"y\": [0.5, 0.5, 0.5, 0.5, 0.99, 0.99, 0.5, 0.01, 0.01, 0.19999999999999996, 0.5], \"type\": \"scatter\"}, {\"y\": [0.5, 0.5, 0.5, 0.99, 0.99, 0.99, 0.5, 0.01, 0.09999999999999998, 0.19999999999999996, 0.5], \"type\": \"scatter\"}], \"layout\": {\"title\": \"Chance to Act by Energy Level - 9400\"}}, {\"data\": [{\"y\": [0.5, 0.5, 0.5, 0.5, 0.99, 0.99, 0.5, 0.01, 0.01, 0.19999999999999996, 0.5], \"type\": \"scatter\"}, {\"y\": [0.5, 0.5, 0.5, 0.99, 0.99, 0.99, 0.5, 0.01, 0.09999999999999998, 0.19999999999999996, 0.5], \"type\": \"scatter\"}], \"layout\": {\"title\": \"Chance to Act by Energy Level - 9500\"}}, {\"data\": [{\"y\": [0.5, 0.5, 0.5, 0.5, 0.99, 0.99, 0.5, 0.01, 0.01, 0.19999999999999996, 0.5], \"type\": \"scatter\"}, {\"y\": [0.5, 0.5, 0.5, 0.99, 0.99, 0.99, 0.5, 0.01, 0.09999999999999998, 0.19999999999999996, 0.5], \"type\": \"scatter\"}], \"layout\": {\"title\": \"Chance to Act by Energy Level - 9600\"}}, {\"data\": [{\"y\": [0.5, 0.5, 0.5, 0.5, 0.99, 0.99, 0.5, 0.01, 0.01, 0.19999999999999996, 0.5], \"type\": \"scatter\"}, {\"y\": [0.5, 0.5, 0.5, 0.99, 0.99, 0.99, 0.5, 0.01, 0.09999999999999998, 0.19999999999999996, 0.5], \"type\": \"scatter\"}], \"layout\": {\"title\": \"Chance to Act by Energy Level - 9700\"}}, {\"data\": [{\"y\": [0.5, 0.5, 0.5, 0.5, 0.99, 0.99, 0.5, 0.01, 0.01, 0.19999999999999996, 0.5], \"type\": \"scatter\"}, {\"y\": [0.5, 0.5, 0.5, 0.99, 0.99, 0.99, 0.5, 0.01, 0.09999999999999998, 0.19999999999999996, 0.5], \"type\": \"scatter\"}], \"layout\": {\"title\": \"Chance to Act by Energy Level - 9800\"}}, {\"data\": [{\"y\": [0.5, 0.5, 0.5, 0.5, 0.99, 0.99, 0.5, 0.01, 0.01, 0.19999999999999996, 0.5], \"type\": \"scatter\"}, {\"y\": [0.5, 0.5, 0.5, 0.99, 0.99, 0.99, 0.5, 0.01, 0.09999999999999998, 0.19999999999999996, 0.5], \"type\": \"scatter\"}], \"layout\": {\"title\": \"Chance to Act by Energy Level - 9900\"}}]);}).then(function(){Plotly.animate('7a9a0664-9727-4dd3-b195-869f34493e5d');})\n",
       "        });</script>"
      ]
     },
     "metadata": {},
     "output_type": "display_data"
    }
   ],
   "source": [
    "frames = []\n",
    "print(len(chances_over_time))\n",
    "for i, chances in enumerate(chances_over_time):\n",
    "    _, cheese, no_cheese = chances\n",
    "    frame = {\n",
    "        'data': [\n",
    "            {'y': cheese}, \n",
    "            {'y': no_cheese}\n",
    "        ],\n",
    "        'layout': {\n",
    "            'title': 'Chance to Act by Energy Level - {}'.format(i * capture_frame_every)\n",
    "        }\n",
    "    }\n",
    "    frames.append(frame)\n",
    "    \n",
    "\n",
    "figure = {'data': [\n",
    "            {'y': chances_over_time[0][1],\n",
    "             'name': 'Cheese'\n",
    "            }, \n",
    "            {'y': chances_over_time[0][2],\n",
    "             'name': 'No Cheese'\n",
    "            }],\n",
    "          'layout': {'yaxis': {'range': [0, 1], 'autorange': False},\n",
    "                     'title': 'Chance to Act by Energy Level - 0',\n",
    "                     'updatemenus':[{\n",
    "                        'type': 'buttons',\n",
    "                        'buttons': [{\n",
    "                            'args': [\n",
    "                                None,\n",
    "                                {'frame': {'duration': 0, 'redraw': True},\n",
    "                                 'mode': 'next',\n",
    "                                 'transition': {'duration': 0, 'easing': 'linear'}\n",
    "                                 }\n",
    "                            ],\n",
    "                            'label': 'Play',\n",
    "                            'method': 'animate'\n",
    "                        }]\n",
    "                      }]\n",
    "                    },\n",
    "          'frames': frames\n",
    "         }\n",
    "\n",
    "iplot(figure)"
   ]
  },
  {
   "cell_type": "code",
   "execution_count": null,
   "metadata": {},
   "outputs": [],
   "source": []
  }
 ],
 "metadata": {
  "kernelspec": {
   "display_name": "Python 3",
   "language": "python",
   "name": "python3"
  },
  "language_info": {
   "codemirror_mode": {
    "name": "ipython",
    "version": 3
   },
   "file_extension": ".py",
   "mimetype": "text/x-python",
   "name": "python",
   "nbconvert_exporter": "python",
   "pygments_lexer": "ipython3",
   "version": "3.6.5"
  }
 },
 "nbformat": 4,
 "nbformat_minor": 2
}
